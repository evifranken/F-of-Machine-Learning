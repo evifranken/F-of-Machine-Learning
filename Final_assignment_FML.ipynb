{
 "cells": [
  {
   "cell_type": "markdown",
   "metadata": {},
   "source": [
    "# Predictive model - School shootings in the US\n",
    "\n",
    "#### Block 2 - Fundamentals of Machine Learning\n",
    "M Data-driven Design <br>\n",
    "Evi Franken </br><br>\n",
    "1786080</br>"
   ]
  },
  {
   "cell_type": "markdown",
   "metadata": {},
   "source": [
    "______________________________________________________________________________________________________________________\n",
    "\n",
    "# 1. Introduction\n",
    "\n",
    "#### 1.1 Context \n",
    "At April 20, 1999 a school shooting and attempted bombing occured at a High School in Columbine, Colorado. It was the deadliest high school shooting in the US until 2018. Since then 'Columbine' has become a byword for school shootings. This heartbreaking massacre made a big impact on the whole world, but most importantly on the children who were exposed to the school shootings. More than 240,000 students have experienced gun violence at school since Columbine (Analysis | More than 240,000 Students Have Experienced Gun Violence at School since Columbine, 2018). Unfortunately, the federal government in the United States does not track school shootings. Therefore journalists from The Washington Post have spend a year determining how many children have ben effected and documented it into 1 dataframe. \n",
    "\n",
    "#### 1.2 The research question\n",
    "<i>\"'Given the relationship of the shooter, school type, whether a an officer at , X4, ... how well can the casualties be predicted'\"</i>\n",
    "\n",
    "#### 1.3 Practical relevance \n",
    "The dataset seems rich and contains many types of information. However there are a lot of variables that contain a lot of NaN's and there aren't a lot of entries (this is caused by the federal government that doesnt track these school shootings). It's not a lot, and it makes it a bit harder for machine learning, as I don't have a lot of data to choose from in order to make the best prediction. However I think its a very interesting (and a little grim as well) topic, so this will motivate me. Thus, I'll try to make the best out of it.\n",
    "\n",
    "______________________________________________________________________________________________________________________"
   ]
  },
  {
   "cell_type": "markdown",
   "metadata": {},
   "source": [
    "# 2. The data-set"
   ]
  },
  {
   "cell_type": "markdown",
   "metadata": {},
   "source": [
    "\n",
    "### 2.1 The acquired the data"
   ]
  },
  {
   "cell_type": "markdown",
   "metadata": {},
   "source": [
    "I found the dataset while searching through Google. This showed me a research report by the Washington Post (https://www.washingtonpost.com/graphics/2018/local/school-shootings-database/). This report contained some shocking stats and as a result of looking into this I found out they had a corresponding dataset. I quickly analyzed it on Github, and decided dat due to the shocking/interesting topic, the accompanied layout information and the rich amount of columns I would start my Machine learning with this dataset.\n",
    "\n",
    "The original and raw dataset has: \n",
    "<ul>\n",
    "  <li><i>237 entries</i></li>\n",
    "  <li><i>50 columns (variables)</i></li>\n",
    "</ul>\n",
    "\n",
    "______________________________________________________________________________________________________________________\n",
    "\n",
    "<b>First the limitations of the dataset</b>\n",
    "\n",
    "\n",
    "There are variables that are not of interest because of their wide and unique categorical ratio: e.g. school state, school id, county and ulocale etc.\n",
    "\n",
    "Then there are some variables that for me seemed a little bit too grim: including race/ethnicity of the schools. Eventhough the variables would be very helpful, I don't feel comfortable by using these.\n",
    "\n",
    "And finally the datasest contains a lot of variables with too many NaN's.\n",
    "\n",
    "______________________________________________________________________________________________________________________"
   ]
  },
  {
   "cell_type": "markdown",
   "metadata": {},
   "source": [
    "### 2.2 Data cleaning"
   ]
  },
  {
   "cell_type": "code",
   "execution_count": 576,
   "metadata": {},
   "outputs": [],
   "source": [
    "import pandas as pd #libarary for data manipulation and analysis\n",
    "import numpy as np\n",
    "import seaborn as sns #The plotting library\n",
    "import matplotlib.pyplot as plt #Matplotlib for setting the labels in the Seaborn graphs\n",
    "from sklearn.model_selection import train_test_split #We need this to split the data\n",
    "\n",
    "#sets the limit of displaying rows to none\n",
    "pd.set_option(\"display.max_rows\", None, \"display.max_columns\", None)"
   ]
  },
  {
   "cell_type": "markdown",
   "metadata": {},
   "source": [
    "There are a lot of columns in this dataset that contain many NaNs. It therefore wouldn't work to drop the NaN immediately. I first need to check for variables (around 10) that have little to no NaN's. Then I subset the dataframe and leave out the NaN's.\n",
    "\n",
    "First I have a quick look at all variables, by using <i>df.head( )</i>."
   ]
  },
  {
   "cell_type": "code",
   "execution_count": 577,
   "metadata": {
    "scrolled": true
   },
   "outputs": [
    {
     "data": {
      "text/html": [
       "<div>\n",
       "<style scoped>\n",
       "    .dataframe tbody tr th:only-of-type {\n",
       "        vertical-align: middle;\n",
       "    }\n",
       "\n",
       "    .dataframe tbody tr th {\n",
       "        vertical-align: top;\n",
       "    }\n",
       "\n",
       "    .dataframe thead th {\n",
       "        text-align: right;\n",
       "    }\n",
       "</style>\n",
       "<table border=\"1\" class=\"dataframe\">\n",
       "  <thead>\n",
       "    <tr style=\"text-align: right;\">\n",
       "      <th></th>\n",
       "      <th>uid</th>\n",
       "      <th>nces_school_id</th>\n",
       "      <th>school_name</th>\n",
       "      <th>nces_district_id</th>\n",
       "      <th>district_name</th>\n",
       "      <th>date</th>\n",
       "      <th>school_year</th>\n",
       "      <th>year</th>\n",
       "      <th>time</th>\n",
       "      <th>day_of_week</th>\n",
       "      <th>city</th>\n",
       "      <th>state</th>\n",
       "      <th>school_type</th>\n",
       "      <th>enrollment</th>\n",
       "      <th>killed</th>\n",
       "      <th>injured</th>\n",
       "      <th>casualties</th>\n",
       "      <th>shooting_type</th>\n",
       "      <th>age_shooter1</th>\n",
       "      <th>gender_shooter1</th>\n",
       "      <th>race_ethnicity_shooter1</th>\n",
       "      <th>shooter_relationship1</th>\n",
       "      <th>shooter_deceased1</th>\n",
       "      <th>deceased_notes1</th>\n",
       "      <th>age_shooter2</th>\n",
       "      <th>gender_shooter2</th>\n",
       "      <th>race_ethnicity_shooter2</th>\n",
       "      <th>shooter_relationship2</th>\n",
       "      <th>shooter_deceased2</th>\n",
       "      <th>deceased_notes2</th>\n",
       "      <th>white</th>\n",
       "      <th>black</th>\n",
       "      <th>hispanic</th>\n",
       "      <th>asian</th>\n",
       "      <th>american_indian_alaska_native</th>\n",
       "      <th>hawaiian_native_pacific_islander</th>\n",
       "      <th>two_or_more</th>\n",
       "      <th>resource_officer</th>\n",
       "      <th>weapon</th>\n",
       "      <th>weapon_source</th>\n",
       "      <th>lat</th>\n",
       "      <th>long</th>\n",
       "      <th>staffing</th>\n",
       "      <th>low_grade</th>\n",
       "      <th>high_grade</th>\n",
       "      <th>lunch</th>\n",
       "      <th>county</th>\n",
       "      <th>state_fips</th>\n",
       "      <th>county_fips</th>\n",
       "      <th>ulocale</th>\n",
       "    </tr>\n",
       "  </thead>\n",
       "  <tbody>\n",
       "    <tr>\n",
       "      <th>0</th>\n",
       "      <td>1</td>\n",
       "      <td>080480000707</td>\n",
       "      <td>Columbine High School</td>\n",
       "      <td>804800.0</td>\n",
       "      <td>Jefferson County R-1</td>\n",
       "      <td>4/20/1999</td>\n",
       "      <td>1998-1999</td>\n",
       "      <td>1999</td>\n",
       "      <td>11:19 AM</td>\n",
       "      <td>Tuesday</td>\n",
       "      <td>Littleton</td>\n",
       "      <td>Colorado</td>\n",
       "      <td>public</td>\n",
       "      <td>1965</td>\n",
       "      <td>13</td>\n",
       "      <td>21</td>\n",
       "      <td>34</td>\n",
       "      <td>indiscriminate</td>\n",
       "      <td>18.0</td>\n",
       "      <td>m</td>\n",
       "      <td>w</td>\n",
       "      <td>student</td>\n",
       "      <td>1.0</td>\n",
       "      <td>suicide</td>\n",
       "      <td>17.0</td>\n",
       "      <td>m</td>\n",
       "      <td>w</td>\n",
       "      <td>student</td>\n",
       "      <td>1.0</td>\n",
       "      <td>suicide</td>\n",
       "      <td>1783</td>\n",
       "      <td>16.0</td>\n",
       "      <td>112.0</td>\n",
       "      <td>42.0</td>\n",
       "      <td>12.0</td>\n",
       "      <td>NaN</td>\n",
       "      <td>NaN</td>\n",
       "      <td>1</td>\n",
       "      <td>12-gauge Savage-Springfield 67H pump-action sh...</td>\n",
       "      <td>purchased from friends</td>\n",
       "      <td>39.603910</td>\n",
       "      <td>-105.075000</td>\n",
       "      <td>89.6</td>\n",
       "      <td>9</td>\n",
       "      <td>12</td>\n",
       "      <td>41.0</td>\n",
       "      <td>Jefferson County</td>\n",
       "      <td>8</td>\n",
       "      <td>8059</td>\n",
       "      <td>21.0</td>\n",
       "    </tr>\n",
       "    <tr>\n",
       "      <th>1</th>\n",
       "      <td>2</td>\n",
       "      <td>220054000422</td>\n",
       "      <td>Scotlandville Middle School</td>\n",
       "      <td>2200540.0</td>\n",
       "      <td>East Baton Rouge Parish School Board</td>\n",
       "      <td>4/22/1999</td>\n",
       "      <td>1998-1999</td>\n",
       "      <td>1999</td>\n",
       "      <td>12:30 PM</td>\n",
       "      <td>Thursday</td>\n",
       "      <td>Baton Rouge</td>\n",
       "      <td>Louisiana</td>\n",
       "      <td>public</td>\n",
       "      <td>588</td>\n",
       "      <td>0</td>\n",
       "      <td>1</td>\n",
       "      <td>1</td>\n",
       "      <td>targeted</td>\n",
       "      <td>14.0</td>\n",
       "      <td>m</td>\n",
       "      <td>NaN</td>\n",
       "      <td>former student (expelled)</td>\n",
       "      <td>0.0</td>\n",
       "      <td>NaN</td>\n",
       "      <td>NaN</td>\n",
       "      <td>NaN</td>\n",
       "      <td>NaN</td>\n",
       "      <td>NaN</td>\n",
       "      <td>NaN</td>\n",
       "      <td>NaN</td>\n",
       "      <td>5</td>\n",
       "      <td>583.0</td>\n",
       "      <td>0.0</td>\n",
       "      <td>0.0</td>\n",
       "      <td>0.0</td>\n",
       "      <td>NaN</td>\n",
       "      <td>NaN</td>\n",
       "      <td>0</td>\n",
       "      <td>.22-caliber handgun</td>\n",
       "      <td>NaN</td>\n",
       "      <td>30.529958</td>\n",
       "      <td>-91.169966</td>\n",
       "      <td>39.0</td>\n",
       "      <td>6</td>\n",
       "      <td>8</td>\n",
       "      <td>495.0</td>\n",
       "      <td>East Baton Rouge Parish</td>\n",
       "      <td>22</td>\n",
       "      <td>22033</td>\n",
       "      <td>12.0</td>\n",
       "    </tr>\n",
       "    <tr>\n",
       "      <th>2</th>\n",
       "      <td>3</td>\n",
       "      <td>130441001591</td>\n",
       "      <td>Heritage High School</td>\n",
       "      <td>1304410.0</td>\n",
       "      <td>Rockdale County</td>\n",
       "      <td>5/20/1999</td>\n",
       "      <td>1998-1999</td>\n",
       "      <td>1999</td>\n",
       "      <td>8:03 AM</td>\n",
       "      <td>Thursday</td>\n",
       "      <td>Conyers</td>\n",
       "      <td>Georgia</td>\n",
       "      <td>public</td>\n",
       "      <td>1,369</td>\n",
       "      <td>0</td>\n",
       "      <td>6</td>\n",
       "      <td>6</td>\n",
       "      <td>indiscriminate</td>\n",
       "      <td>15.0</td>\n",
       "      <td>m</td>\n",
       "      <td>w</td>\n",
       "      <td>student</td>\n",
       "      <td>0.0</td>\n",
       "      <td>NaN</td>\n",
       "      <td>NaN</td>\n",
       "      <td>NaN</td>\n",
       "      <td>NaN</td>\n",
       "      <td>NaN</td>\n",
       "      <td>NaN</td>\n",
       "      <td>NaN</td>\n",
       "      <td>1189</td>\n",
       "      <td>136.0</td>\n",
       "      <td>28.0</td>\n",
       "      <td>15.0</td>\n",
       "      <td>1.0</td>\n",
       "      <td>NaN</td>\n",
       "      <td>NaN</td>\n",
       "      <td>1</td>\n",
       "      <td>.22-caliber rifle, .357-caliber Magnum handgun</td>\n",
       "      <td>NaN</td>\n",
       "      <td>33.626922</td>\n",
       "      <td>-84.047960</td>\n",
       "      <td>84.0</td>\n",
       "      <td>9</td>\n",
       "      <td>12</td>\n",
       "      <td>125.0</td>\n",
       "      <td>Rockdale County</td>\n",
       "      <td>13</td>\n",
       "      <td>13247</td>\n",
       "      <td>21.0</td>\n",
       "    </tr>\n",
       "    <tr>\n",
       "      <th>3</th>\n",
       "      <td>4</td>\n",
       "      <td>421899003847</td>\n",
       "      <td>John Bartram High School</td>\n",
       "      <td>4218990.0</td>\n",
       "      <td>Philadelphia City SD</td>\n",
       "      <td>10/4/1999</td>\n",
       "      <td>1999-2000</td>\n",
       "      <td>1999</td>\n",
       "      <td>10:00 AM</td>\n",
       "      <td>Monday</td>\n",
       "      <td>Philadelphia</td>\n",
       "      <td>Pennsylvania</td>\n",
       "      <td>public</td>\n",
       "      <td>3147</td>\n",
       "      <td>0</td>\n",
       "      <td>1</td>\n",
       "      <td>1</td>\n",
       "      <td>targeted</td>\n",
       "      <td>17.0</td>\n",
       "      <td>m</td>\n",
       "      <td>NaN</td>\n",
       "      <td>student</td>\n",
       "      <td>0.0</td>\n",
       "      <td>NaN</td>\n",
       "      <td>NaN</td>\n",
       "      <td>NaN</td>\n",
       "      <td>NaN</td>\n",
       "      <td>NaN</td>\n",
       "      <td>NaN</td>\n",
       "      <td>NaN</td>\n",
       "      <td>209</td>\n",
       "      <td>2736.0</td>\n",
       "      <td>27.0</td>\n",
       "      <td>170.0</td>\n",
       "      <td>5.0</td>\n",
       "      <td>NaN</td>\n",
       "      <td>NaN</td>\n",
       "      <td>1</td>\n",
       "      <td>RG .25-caliber handgun</td>\n",
       "      <td>purchased from friend</td>\n",
       "      <td>39.921509</td>\n",
       "      <td>-75.234108</td>\n",
       "      <td>41.0</td>\n",
       "      <td>9</td>\n",
       "      <td>12</td>\n",
       "      <td>2007.0</td>\n",
       "      <td>Philadelphia County</td>\n",
       "      <td>42</td>\n",
       "      <td>42101</td>\n",
       "      <td>11.0</td>\n",
       "    </tr>\n",
       "    <tr>\n",
       "      <th>4</th>\n",
       "      <td>5</td>\n",
       "      <td>250279000225</td>\n",
       "      <td>Dorchester High School</td>\n",
       "      <td>2502790.0</td>\n",
       "      <td>Boston</td>\n",
       "      <td>11/3/1999</td>\n",
       "      <td>1999-2000</td>\n",
       "      <td>1999</td>\n",
       "      <td>7:40 AM</td>\n",
       "      <td>Wednesday</td>\n",
       "      <td>Boston</td>\n",
       "      <td>Massachusetts</td>\n",
       "      <td>public</td>\n",
       "      <td>1,116</td>\n",
       "      <td>0</td>\n",
       "      <td>1</td>\n",
       "      <td>1</td>\n",
       "      <td>targeted</td>\n",
       "      <td>NaN</td>\n",
       "      <td>m</td>\n",
       "      <td>NaN</td>\n",
       "      <td>NaN</td>\n",
       "      <td>0.0</td>\n",
       "      <td>NaN</td>\n",
       "      <td>NaN</td>\n",
       "      <td>NaN</td>\n",
       "      <td>NaN</td>\n",
       "      <td>NaN</td>\n",
       "      <td>NaN</td>\n",
       "      <td>NaN</td>\n",
       "      <td>40</td>\n",
       "      <td>755.0</td>\n",
       "      <td>287.0</td>\n",
       "      <td>29.0</td>\n",
       "      <td>5.0</td>\n",
       "      <td>NaN</td>\n",
       "      <td>NaN</td>\n",
       "      <td>0</td>\n",
       "      <td>NaN</td>\n",
       "      <td>NaN</td>\n",
       "      <td>42.285268</td>\n",
       "      <td>-71.075901</td>\n",
       "      <td>NaN</td>\n",
       "      <td>9</td>\n",
       "      <td>12</td>\n",
       "      <td>543.0</td>\n",
       "      <td>Suffolk County</td>\n",
       "      <td>25</td>\n",
       "      <td>25025</td>\n",
       "      <td>11.0</td>\n",
       "    </tr>\n",
       "  </tbody>\n",
       "</table>\n",
       "</div>"
      ],
      "text/plain": [
       "   uid nces_school_id                  school_name  nces_district_id  \\\n",
       "0    1   080480000707        Columbine High School          804800.0   \n",
       "1    2   220054000422  Scotlandville Middle School         2200540.0   \n",
       "2    3   130441001591         Heritage High School         1304410.0   \n",
       "3    4   421899003847     John Bartram High School         4218990.0   \n",
       "4    5   250279000225       Dorchester High School         2502790.0   \n",
       "\n",
       "                          district_name       date school_year  year  \\\n",
       "0                  Jefferson County R-1  4/20/1999   1998-1999  1999   \n",
       "1  East Baton Rouge Parish School Board  4/22/1999   1998-1999  1999   \n",
       "2                       Rockdale County  5/20/1999   1998-1999  1999   \n",
       "3                  Philadelphia City SD  10/4/1999   1999-2000  1999   \n",
       "4                                Boston  11/3/1999   1999-2000  1999   \n",
       "\n",
       "       time day_of_week          city          state school_type enrollment  \\\n",
       "0  11:19 AM     Tuesday     Littleton       Colorado      public       1965   \n",
       "1  12:30 PM    Thursday   Baton Rouge      Louisiana      public        588   \n",
       "2   8:03 AM    Thursday       Conyers        Georgia      public      1,369   \n",
       "3  10:00 AM      Monday  Philadelphia  Pennsylvania       public       3147   \n",
       "4   7:40 AM   Wednesday        Boston  Massachusetts      public      1,116   \n",
       "\n",
       "   killed  injured  casualties   shooting_type  age_shooter1 gender_shooter1  \\\n",
       "0      13       21          34  indiscriminate          18.0               m   \n",
       "1       0        1           1        targeted          14.0               m   \n",
       "2       0        6           6  indiscriminate          15.0               m   \n",
       "3       0        1           1        targeted          17.0               m   \n",
       "4       0        1           1        targeted           NaN               m   \n",
       "\n",
       "  race_ethnicity_shooter1      shooter_relationship1  shooter_deceased1  \\\n",
       "0                       w                    student                1.0   \n",
       "1                     NaN  former student (expelled)                0.0   \n",
       "2                       w                    student                0.0   \n",
       "3                     NaN                    student                0.0   \n",
       "4                     NaN                        NaN                0.0   \n",
       "\n",
       "  deceased_notes1  age_shooter2 gender_shooter2 race_ethnicity_shooter2  \\\n",
       "0         suicide          17.0               m                       w   \n",
       "1             NaN           NaN             NaN                     NaN   \n",
       "2             NaN           NaN             NaN                     NaN   \n",
       "3             NaN           NaN             NaN                     NaN   \n",
       "4             NaN           NaN             NaN                     NaN   \n",
       "\n",
       "  shooter_relationship2  shooter_deceased2 deceased_notes2 white   black  \\\n",
       "0               student                1.0         suicide  1783    16.0   \n",
       "1                   NaN                NaN             NaN     5   583.0   \n",
       "2                   NaN                NaN             NaN  1189   136.0   \n",
       "3                   NaN                NaN             NaN   209  2736.0   \n",
       "4                   NaN                NaN             NaN    40   755.0   \n",
       "\n",
       "   hispanic  asian  american_indian_alaska_native  \\\n",
       "0     112.0   42.0                           12.0   \n",
       "1       0.0    0.0                            0.0   \n",
       "2      28.0   15.0                            1.0   \n",
       "3      27.0  170.0                            5.0   \n",
       "4     287.0   29.0                            5.0   \n",
       "\n",
       "   hawaiian_native_pacific_islander  two_or_more  resource_officer  \\\n",
       "0                               NaN          NaN                 1   \n",
       "1                               NaN          NaN                 0   \n",
       "2                               NaN          NaN                 1   \n",
       "3                               NaN          NaN                 1   \n",
       "4                               NaN          NaN                 0   \n",
       "\n",
       "                                              weapon           weapon_source  \\\n",
       "0  12-gauge Savage-Springfield 67H pump-action sh...  purchased from friends   \n",
       "1                                .22-caliber handgun                     NaN   \n",
       "2     .22-caliber rifle, .357-caliber Magnum handgun                     NaN   \n",
       "3                             RG .25-caliber handgun   purchased from friend   \n",
       "4                                                NaN                     NaN   \n",
       "\n",
       "         lat        long  staffing low_grade high_grade   lunch  \\\n",
       "0  39.603910 -105.075000      89.6         9         12    41.0   \n",
       "1  30.529958  -91.169966      39.0         6          8   495.0   \n",
       "2  33.626922  -84.047960      84.0         9         12   125.0   \n",
       "3  39.921509  -75.234108      41.0         9         12  2007.0   \n",
       "4  42.285268  -71.075901       NaN         9         12   543.0   \n",
       "\n",
       "                    county  state_fips  county_fips  ulocale  \n",
       "0         Jefferson County           8         8059     21.0  \n",
       "1  East Baton Rouge Parish          22        22033     12.0  \n",
       "2          Rockdale County          13        13247     21.0  \n",
       "3      Philadelphia County          42        42101     11.0  \n",
       "4           Suffolk County          25        25025     11.0  "
      ]
     },
     "execution_count": 577,
     "metadata": {},
     "output_type": "execute_result"
    }
   ],
   "source": [
    "df = pd.read_csv('school_shootings.csv')\n",
    "df.head(5)"
   ]
  },
  {
   "cell_type": "markdown",
   "metadata": {},
   "source": [
    "______________________________________________________________________________________________________________________\n",
    "\n",
    "##### Selecting my variables\n",
    "\n",
    "I I selected 8 variables that I thought would have little to no NaN's, and that were not too large of a ratio (e.g. state & city).\n",
    "\n",
    "These are: \n",
    "<ul>\n",
    "  <li><i>day of week</i></li>\n",
    "  <li><i>casualties</i></li>\n",
    "  <li><i>school_type</i></li>\n",
    "  <li><i>enrollment</i></li>\n",
    "  <li><i>shooting_type</i></li>\n",
    "  <li><i>gender_shooter1</i></li>\n",
    "  <li><i>resource_officer</i></li>\n",
    "</ul>\n",
    "\n",
    "I think that 'shooter_relationship1' is also an interesting variable, as it can help me with spinning it into a positive assignment: schools and police departments can learn from this by surveillance and detecting problems in school. But is does have more NaN's compared to some other variables. So let's look into this variable and then decide.\n",
    "\n",
    "______________________________________________________________________________________________________________________"
   ]
  },
  {
   "cell_type": "markdown",
   "metadata": {},
   "source": [
    "##### Deciding to leave out or include the column 'shooter relationship'\n",
    "\n",
    "I want to check the amount of entries when including this variable and by dropping the NaN's. Then by showing the info of the dataframe I can make a decision."
   ]
  },
  {
   "cell_type": "code",
   "execution_count": 578,
   "metadata": {},
   "outputs": [
    {
     "name": "stdout",
     "output_type": "stream",
     "text": [
      "<class 'pandas.core.frame.DataFrame'>\n",
      "Int64Index: 222 entries, 0 to 236\n",
      "Data columns (total 7 columns):\n",
      " #   Column            Non-Null Count  Dtype \n",
      "---  ------            --------------  ----- \n",
      " 0   day_of_week       222 non-null    object\n",
      " 1   casualties        222 non-null    int64 \n",
      " 2   school_type       222 non-null    object\n",
      " 3   enrollment        222 non-null    object\n",
      " 4   shooting_type     222 non-null    object\n",
      " 5   gender_shooter1   222 non-null    object\n",
      " 6   resource_officer  222 non-null    int64 \n",
      "dtypes: int64(2), object(5)\n",
      "memory usage: 13.9+ KB\n"
     ]
    }
   ],
   "source": [
    "test = df[['day_of_week', 'casualties', 'school_type', 'enrollment', 'shooting_type', 'gender_shooter1', 'resource_officer']]\n",
    "test = test.dropna() #leaving out all rows with NaNs\n",
    "test.info()"
   ]
  },
  {
   "cell_type": "markdown",
   "metadata": {},
   "source": [
    "So it shows me the the dataframe contains of 222 entries."
   ]
  },
  {
   "cell_type": "code",
   "execution_count": 579,
   "metadata": {},
   "outputs": [
    {
     "name": "stdout",
     "output_type": "stream",
     "text": [
      "<class 'pandas.core.frame.DataFrame'>\n",
      "Int64Index: 185 entries, 0 to 236\n",
      "Data columns (total 8 columns):\n",
      " #   Column                 Non-Null Count  Dtype \n",
      "---  ------                 --------------  ----- \n",
      " 0   day_of_week            185 non-null    object\n",
      " 1   casualties             185 non-null    int64 \n",
      " 2   school_type            185 non-null    object\n",
      " 3   enrollment             185 non-null    object\n",
      " 4   shooting_type          185 non-null    object\n",
      " 5   gender_shooter1        185 non-null    object\n",
      " 6   shooter_relationship1  185 non-null    object\n",
      " 7   resource_officer       185 non-null    int64 \n",
      "dtypes: int64(2), object(6)\n",
      "memory usage: 13.0+ KB\n"
     ]
    }
   ],
   "source": [
    "df2 = df[['day_of_week', 'casualties', 'school_type', 'enrollment', 'shooting_type', 'gender_shooter1', 'shooter_relationship1', 'resource_officer']]\n",
    "df2 = df2.dropna() #leaving out all rows with NaNs\n",
    "df2.info()"
   ]
  },
  {
   "cell_type": "markdown",
   "metadata": {},
   "source": [
    "Including the shooter_relationship, I have 185 entries. After consulation with other students, <i>I decided to keep the variable 'shooter_relationship'</i>. It gives me less rows, but 185 is just enough and I think this variable is interesting enough. The next step would be to have a look at the data frame and see what columns and values need cleaning.\n",
    "\n",
    "______________________________________________________________________________________________________________________"
   ]
  },
  {
   "cell_type": "markdown",
   "metadata": {},
   "source": [
    "##### What variables need cleaning?"
   ]
  },
  {
   "cell_type": "code",
   "execution_count": 580,
   "metadata": {
    "scrolled": false
   },
   "outputs": [
    {
     "data": {
      "text/html": [
       "<div>\n",
       "<style scoped>\n",
       "    .dataframe tbody tr th:only-of-type {\n",
       "        vertical-align: middle;\n",
       "    }\n",
       "\n",
       "    .dataframe tbody tr th {\n",
       "        vertical-align: top;\n",
       "    }\n",
       "\n",
       "    .dataframe thead th {\n",
       "        text-align: right;\n",
       "    }\n",
       "</style>\n",
       "<table border=\"1\" class=\"dataframe\">\n",
       "  <thead>\n",
       "    <tr style=\"text-align: right;\">\n",
       "      <th></th>\n",
       "      <th>day_of_week</th>\n",
       "      <th>casualties</th>\n",
       "      <th>school_type</th>\n",
       "      <th>enrollment</th>\n",
       "      <th>shooting_type</th>\n",
       "      <th>gender_shooter1</th>\n",
       "      <th>shooter_relationship1</th>\n",
       "      <th>resource_officer</th>\n",
       "    </tr>\n",
       "  </thead>\n",
       "  <tbody>\n",
       "    <tr>\n",
       "      <th>0</th>\n",
       "      <td>Tuesday</td>\n",
       "      <td>34</td>\n",
       "      <td>public</td>\n",
       "      <td>1965</td>\n",
       "      <td>indiscriminate</td>\n",
       "      <td>m</td>\n",
       "      <td>student</td>\n",
       "      <td>1</td>\n",
       "    </tr>\n",
       "    <tr>\n",
       "      <th>1</th>\n",
       "      <td>Thursday</td>\n",
       "      <td>1</td>\n",
       "      <td>public</td>\n",
       "      <td>588</td>\n",
       "      <td>targeted</td>\n",
       "      <td>m</td>\n",
       "      <td>former student (expelled)</td>\n",
       "      <td>0</td>\n",
       "    </tr>\n",
       "    <tr>\n",
       "      <th>2</th>\n",
       "      <td>Thursday</td>\n",
       "      <td>6</td>\n",
       "      <td>public</td>\n",
       "      <td>1,369</td>\n",
       "      <td>indiscriminate</td>\n",
       "      <td>m</td>\n",
       "      <td>student</td>\n",
       "      <td>1</td>\n",
       "    </tr>\n",
       "    <tr>\n",
       "      <th>3</th>\n",
       "      <td>Monday</td>\n",
       "      <td>1</td>\n",
       "      <td>public</td>\n",
       "      <td>3147</td>\n",
       "      <td>targeted</td>\n",
       "      <td>m</td>\n",
       "      <td>student</td>\n",
       "      <td>1</td>\n",
       "    </tr>\n",
       "    <tr>\n",
       "      <th>5</th>\n",
       "      <td>Friday</td>\n",
       "      <td>1</td>\n",
       "      <td>public</td>\n",
       "      <td>753</td>\n",
       "      <td>accidental or targeted</td>\n",
       "      <td>m</td>\n",
       "      <td>student</td>\n",
       "      <td>0</td>\n",
       "    </tr>\n",
       "  </tbody>\n",
       "</table>\n",
       "</div>"
      ],
      "text/plain": [
       "  day_of_week  casualties school_type enrollment           shooting_type  \\\n",
       "0     Tuesday          34      public       1965          indiscriminate   \n",
       "1    Thursday           1      public        588                targeted   \n",
       "2    Thursday           6      public      1,369          indiscriminate   \n",
       "3      Monday           1      public       3147                targeted   \n",
       "5      Friday           1      public        753  accidental or targeted   \n",
       "\n",
       "  gender_shooter1      shooter_relationship1  resource_officer  \n",
       "0               m                    student                 1  \n",
       "1               m  former student (expelled)                 0  \n",
       "2               m                    student                 1  \n",
       "3               m                    student                 1  \n",
       "5               m                    student                 0  "
      ]
     },
     "execution_count": 580,
     "metadata": {},
     "output_type": "execute_result"
    }
   ],
   "source": [
    "df2.head(5)"
   ]
  },
  {
   "cell_type": "markdown",
   "metadata": {},
   "source": [
    "To make the predictions easier, I will classify the column casualties as a 1 / 0 (yes/no) value. For the same reason I will make dummies out of the variables shooting_type and shooter_relationship. Dummy variables are numeric, and represent the sub-categories of a categorical variable in the dataset. The main benefit of using dummies is because dummies are simple.\n",
    "\n",
    "______________________________________________________________________________________________________________________"
   ]
  },
  {
   "cell_type": "markdown",
   "metadata": {},
   "source": [
    "##### 1. Changing casualties in to a yes no variable (0/1)"
   ]
  },
  {
   "cell_type": "code",
   "execution_count": 581,
   "metadata": {
    "scrolled": false
   },
   "outputs": [
    {
     "data": {
      "text/html": [
       "<div>\n",
       "<style scoped>\n",
       "    .dataframe tbody tr th:only-of-type {\n",
       "        vertical-align: middle;\n",
       "    }\n",
       "\n",
       "    .dataframe tbody tr th {\n",
       "        vertical-align: top;\n",
       "    }\n",
       "\n",
       "    .dataframe thead th {\n",
       "        text-align: right;\n",
       "    }\n",
       "</style>\n",
       "<table border=\"1\" class=\"dataframe\">\n",
       "  <thead>\n",
       "    <tr style=\"text-align: right;\">\n",
       "      <th></th>\n",
       "      <th>day_of_week</th>\n",
       "      <th>casualties</th>\n",
       "      <th>school_type</th>\n",
       "      <th>enrollment</th>\n",
       "      <th>shooting_type</th>\n",
       "      <th>gender_shooter1</th>\n",
       "      <th>shooter_relationship1</th>\n",
       "      <th>resource_officer</th>\n",
       "      <th>casualties_number</th>\n",
       "    </tr>\n",
       "  </thead>\n",
       "  <tbody>\n",
       "    <tr>\n",
       "      <th>0</th>\n",
       "      <td>Tuesday</td>\n",
       "      <td>1</td>\n",
       "      <td>public</td>\n",
       "      <td>1965</td>\n",
       "      <td>indiscriminate</td>\n",
       "      <td>m</td>\n",
       "      <td>student</td>\n",
       "      <td>1</td>\n",
       "      <td>34</td>\n",
       "    </tr>\n",
       "    <tr>\n",
       "      <th>1</th>\n",
       "      <td>Thursday</td>\n",
       "      <td>1</td>\n",
       "      <td>public</td>\n",
       "      <td>588</td>\n",
       "      <td>targeted</td>\n",
       "      <td>m</td>\n",
       "      <td>former student (expelled)</td>\n",
       "      <td>0</td>\n",
       "      <td>1</td>\n",
       "    </tr>\n",
       "    <tr>\n",
       "      <th>2</th>\n",
       "      <td>Thursday</td>\n",
       "      <td>1</td>\n",
       "      <td>public</td>\n",
       "      <td>1,369</td>\n",
       "      <td>indiscriminate</td>\n",
       "      <td>m</td>\n",
       "      <td>student</td>\n",
       "      <td>1</td>\n",
       "      <td>6</td>\n",
       "    </tr>\n",
       "    <tr>\n",
       "      <th>3</th>\n",
       "      <td>Monday</td>\n",
       "      <td>1</td>\n",
       "      <td>public</td>\n",
       "      <td>3147</td>\n",
       "      <td>targeted</td>\n",
       "      <td>m</td>\n",
       "      <td>student</td>\n",
       "      <td>1</td>\n",
       "      <td>1</td>\n",
       "    </tr>\n",
       "    <tr>\n",
       "      <th>5</th>\n",
       "      <td>Friday</td>\n",
       "      <td>1</td>\n",
       "      <td>public</td>\n",
       "      <td>753</td>\n",
       "      <td>accidental or targeted</td>\n",
       "      <td>m</td>\n",
       "      <td>student</td>\n",
       "      <td>0</td>\n",
       "      <td>1</td>\n",
       "    </tr>\n",
       "    <tr>\n",
       "      <th>6</th>\n",
       "      <td>Monday</td>\n",
       "      <td>1</td>\n",
       "      <td>public</td>\n",
       "      <td>407</td>\n",
       "      <td>indiscriminate</td>\n",
       "      <td>m</td>\n",
       "      <td>student</td>\n",
       "      <td>0</td>\n",
       "      <td>5</td>\n",
       "    </tr>\n",
       "    <tr>\n",
       "      <th>7</th>\n",
       "      <td>Wednesday</td>\n",
       "      <td>1</td>\n",
       "      <td>public</td>\n",
       "      <td>1852</td>\n",
       "      <td>accidental</td>\n",
       "      <td>m</td>\n",
       "      <td>student</td>\n",
       "      <td>1</td>\n",
       "      <td>1</td>\n",
       "    </tr>\n",
       "    <tr>\n",
       "      <th>8</th>\n",
       "      <td>Wednesday</td>\n",
       "      <td>0</td>\n",
       "      <td>public</td>\n",
       "      <td>734</td>\n",
       "      <td>targeted</td>\n",
       "      <td>m</td>\n",
       "      <td>none</td>\n",
       "      <td>0</td>\n",
       "      <td>0</td>\n",
       "    </tr>\n",
       "    <tr>\n",
       "      <th>9</th>\n",
       "      <td>Monday</td>\n",
       "      <td>1</td>\n",
       "      <td>public</td>\n",
       "      <td>736</td>\n",
       "      <td>accidental</td>\n",
       "      <td>m</td>\n",
       "      <td>student</td>\n",
       "      <td>0</td>\n",
       "      <td>1</td>\n",
       "    </tr>\n",
       "    <tr>\n",
       "      <th>11</th>\n",
       "      <td>Thursday</td>\n",
       "      <td>0</td>\n",
       "      <td>public</td>\n",
       "      <td>711</td>\n",
       "      <td>targeted</td>\n",
       "      <td>m</td>\n",
       "      <td>former boyfriend of student</td>\n",
       "      <td>0</td>\n",
       "      <td>0</td>\n",
       "    </tr>\n",
       "    <tr>\n",
       "      <th>12</th>\n",
       "      <td>Tuesday</td>\n",
       "      <td>1</td>\n",
       "      <td>public</td>\n",
       "      <td>459</td>\n",
       "      <td>targeted</td>\n",
       "      <td>m</td>\n",
       "      <td>student</td>\n",
       "      <td>0</td>\n",
       "      <td>1</td>\n",
       "    </tr>\n",
       "    <tr>\n",
       "      <th>13</th>\n",
       "      <td>Thursday</td>\n",
       "      <td>1</td>\n",
       "      <td>public</td>\n",
       "      <td>499</td>\n",
       "      <td>targeted</td>\n",
       "      <td>f</td>\n",
       "      <td>parent of student</td>\n",
       "      <td>1</td>\n",
       "      <td>1</td>\n",
       "    </tr>\n",
       "    <tr>\n",
       "      <th>14</th>\n",
       "      <td>Wednesday</td>\n",
       "      <td>1</td>\n",
       "      <td>public</td>\n",
       "      <td>397</td>\n",
       "      <td>targeted</td>\n",
       "      <td>m</td>\n",
       "      <td>spouse of teacher</td>\n",
       "      <td>0</td>\n",
       "      <td>1</td>\n",
       "    </tr>\n",
       "    <tr>\n",
       "      <th>15</th>\n",
       "      <td>Friday</td>\n",
       "      <td>1</td>\n",
       "      <td>public</td>\n",
       "      <td>1,525</td>\n",
       "      <td>targeted</td>\n",
       "      <td>m</td>\n",
       "      <td>student</td>\n",
       "      <td>0</td>\n",
       "      <td>1</td>\n",
       "    </tr>\n",
       "    <tr>\n",
       "      <th>16</th>\n",
       "      <td>Monday</td>\n",
       "      <td>0</td>\n",
       "      <td>public</td>\n",
       "      <td>956</td>\n",
       "      <td>indiscriminate</td>\n",
       "      <td>m</td>\n",
       "      <td>student in summer school</td>\n",
       "      <td>0</td>\n",
       "      <td>0</td>\n",
       "    </tr>\n",
       "  </tbody>\n",
       "</table>\n",
       "</div>"
      ],
      "text/plain": [
       "   day_of_week  casualties school_type enrollment           shooting_type  \\\n",
       "0      Tuesday           1      public       1965          indiscriminate   \n",
       "1     Thursday           1      public        588                targeted   \n",
       "2     Thursday           1      public      1,369          indiscriminate   \n",
       "3       Monday           1      public       3147                targeted   \n",
       "5       Friday           1      public        753  accidental or targeted   \n",
       "6       Monday           1      public        407          indiscriminate   \n",
       "7    Wednesday           1      public       1852              accidental   \n",
       "8    Wednesday           0      public        734                targeted   \n",
       "9       Monday           1      public        736              accidental   \n",
       "11    Thursday           0      public        711                targeted   \n",
       "12     Tuesday           1      public        459                targeted   \n",
       "13    Thursday           1      public        499                targeted   \n",
       "14   Wednesday           1      public        397                targeted   \n",
       "15      Friday           1      public      1,525                targeted   \n",
       "16      Monday           0      public        956          indiscriminate   \n",
       "\n",
       "   gender_shooter1        shooter_relationship1  resource_officer  \\\n",
       "0                m                      student                 1   \n",
       "1                m    former student (expelled)                 0   \n",
       "2                m                      student                 1   \n",
       "3                m                      student                 1   \n",
       "5                m                      student                 0   \n",
       "6                m                      student                 0   \n",
       "7                m                      student                 1   \n",
       "8                m                         none                 0   \n",
       "9                m                      student                 0   \n",
       "11               m  former boyfriend of student                 0   \n",
       "12               m                      student                 0   \n",
       "13               f            parent of student                 1   \n",
       "14               m            spouse of teacher                 0   \n",
       "15               m                      student                 0   \n",
       "16               m     student in summer school                 0   \n",
       "\n",
       "    casualties_number  \n",
       "0                  34  \n",
       "1                   1  \n",
       "2                   6  \n",
       "3                   1  \n",
       "5                   1  \n",
       "6                   5  \n",
       "7                   1  \n",
       "8                   0  \n",
       "9                   1  \n",
       "11                  0  \n",
       "12                  1  \n",
       "13                  1  \n",
       "14                  1  \n",
       "15                  1  \n",
       "16                  0  "
      ]
     },
     "execution_count": 581,
     "metadata": {},
     "output_type": "execute_result"
    }
   ],
   "source": [
    "df2['casualties_number']= df2['casualties'] # adding another column so I will always have the number in here as well\n",
    "df2.loc[df2['casualties'] > 0, 'casualties'] = 1 #adding a 1 for casualties and a 0 for no casualties\n",
    "df2.head(15)"
   ]
  },
  {
   "cell_type": "markdown",
   "metadata": {},
   "source": [
    "______________________________________________________________________________________________________________________\n",
    "\n",
    "##### 2. Cleaning up the variable shooter_relationship\n",
    "\n",
    "To convert the shooter_relationship into dummies, I first have to take a look at all the values to determine which variables I want to include and/or combine."
   ]
  },
  {
   "cell_type": "code",
   "execution_count": 582,
   "metadata": {},
   "outputs": [
    {
     "data": {
      "text/plain": [
       "student                                                      121\n",
       "none                                                           8\n",
       "former student                                                 7\n",
       "parent of student                                              6\n",
       "resource officer                                               5\n",
       "former student (expelled)                                      5\n",
       "student                                                        4\n",
       "spouse of teacher                                              3\n",
       "teacher                                                        2\n",
       "boyfriend of student                                           1\n",
       "security guard                                                 1\n",
       "father of student                                              1\n",
       "student (suspended)                                            1\n",
       "not a student but often hung around the school                 1\n",
       "friend of student                                              1\n",
       "brother of student                                             1\n",
       "ex-boyfriend of student                                        1\n",
       "police officer                                                 1\n",
       "none; worked in community                                      1\n",
       "student at rival school                                        1\n",
       "former boyfriend of student's mother                           1\n",
       "substitute teacher                                             1\n",
       "dating mother of student                                       1\n",
       "student at neighboring school, rode bus with some victims      1\n",
       "father of football player                                      1\n",
       "non-student                                                    1\n",
       "former boyfriend of student                                    1\n",
       "fired teacher                                                  1\n",
       "SWAT officer                                                   1\n",
       "suspended student from different campus                        1\n",
       "janitor                                                        1\n",
       "multiple officers                                              1\n",
       "student in summer school                                       1\n",
       "Name: shooter_relationship1, dtype: int64"
      ]
     },
     "execution_count": 582,
     "metadata": {},
     "output_type": "execute_result"
    }
   ],
   "source": [
    "df2[\"shooter_relationship1\"].value_counts()"
   ]
  },
  {
   "cell_type": "markdown",
   "metadata": {},
   "source": [
    "The first thing I notice is that there are two values of student. Let's have a look at the difference by showing their unique values."
   ]
  },
  {
   "cell_type": "code",
   "execution_count": 583,
   "metadata": {},
   "outputs": [
    {
     "data": {
      "text/plain": [
       "array(['student', 'former student (expelled)', 'none',\n",
       "       'former boyfriend of student', 'parent of student',\n",
       "       'spouse of teacher', 'student in summer school',\n",
       "       'not a student but often hung around the school',\n",
       "       'student (suspended)', 'multiple officers', 'security guard',\n",
       "       'former student', 'father of football player',\n",
       "       'dating mother of student', 'SWAT officer', 'resource officer',\n",
       "       'none; worked in community', 'boyfriend of student', 'non-student',\n",
       "       'ex-boyfriend of student', 'janitor', 'police officer',\n",
       "       'student at neighboring school, rode bus with some victims',\n",
       "       'fired teacher', 'suspended student from different campus',\n",
       "       'student ', 'father of student', 'student at rival school',\n",
       "       'friend of student', 'brother of student', 'teacher',\n",
       "       \"former boyfriend of student's mother\", 'substitute teacher'],\n",
       "      dtype=object)"
      ]
     },
     "execution_count": 583,
     "metadata": {},
     "output_type": "execute_result"
    }
   ],
   "source": [
    "df2.shooter_relationship1.unique()"
   ]
  },
  {
   "cell_type": "markdown",
   "metadata": {},
   "source": [
    "The difference is a space behind the word. So let's see if we can combine these two columns.\n",
    "\n",
    "Also the result of displaying all values for the variable shooter_relationship, shows me there are a too many specific values. And a lot of values that only consist of 1 count. Most values can be combined into one column. So student in summerschool can be merged into the value of just a student. Thus, I want to simplify this by using broader categories such as: parents, student and teachers. I will create a column of remaining values to combine the more random variables. This way I will only have a few columns which is better when I convert them into dummies."
   ]
  },
  {
   "cell_type": "code",
   "execution_count": 584,
   "metadata": {},
   "outputs": [],
   "source": [
    "df2[\"shooter_relationship1\"].replace({\"former student (expelled)\": \"student\",\n",
    "                                     \"former student (suspended)\": \"student\",\n",
    "                                     \"former student\":\"student\",\n",
    "                                     \"former boyfriend of student\": \"boyfriend\",\n",
    "                                     \"boyfriend of student\":\"boyfriend\",\n",
    "                                     \"parent of student\":\"parent\",\n",
    "                                     \"student in summer school\":\"remaining\",\n",
    "                                     \"not a student but often hung around the school\":\"remaining\",\n",
    "                                     \"none\":\"remaining\",\n",
    "                                     \"multiple officers\":\"remaining\",\n",
    "                                     \"security guard\":\"officer\",\n",
    "                                     \"multiple officers\":\"officer\",\n",
    "                                     \"father of football player\":\"parent\",\n",
    "                                     \"dating mother of student\":\"parent\",\n",
    "                                     \"SWAT officer\":\"officer\",\n",
    "                                     \"none; worked in community\":\"remaining\",\n",
    "                                     \"resource officer\":\"officer\",\n",
    "                                     \"spouse of teacher\":\"teacher\",\n",
    "                                     \"non-student\":\"remaining\",\n",
    "                                     \"ex-boyfriend of student\":\"boyfriend\",\n",
    "                                     \"police officer\":\"officer\",\n",
    "                                     \"janitor\":\"remaining\",\n",
    "                                     \"student at neighboring school, rode bus with some victims\":\"remaining\",\n",
    "                                     \"fired teacher\":\"teacher\",\n",
    "                                     \"suspended student from different campus\":\"remaining\",\n",
    "                                     \"student at rival school\":\"remaining\",\n",
    "                                     \"father of student\":\"parent\",\n",
    "                                     \"friend of student\":\"remaining\",\n",
    "                                     \"brother of student\":\"remaining\",\n",
    "                                     \"former boyfriend of student's mother\":\"parent\",\n",
    "                                     \"substitute teacher\":\"teacher\",\n",
    "                                     \"student \":\"student\",\n",
    "                                     \"student (suspended)\":\"student\"\n",
    "                                    }, inplace=True)"
   ]
  },
  {
   "cell_type": "markdown",
   "metadata": {},
   "source": [
    "I changed a lot of values, so let's quickly check if it looks allright."
   ]
  },
  {
   "cell_type": "code",
   "execution_count": 585,
   "metadata": {},
   "outputs": [
    {
     "data": {
      "text/plain": [
       "student      138\n",
       "remaining     18\n",
       "parent        10\n",
       "officer        9\n",
       "teacher        7\n",
       "boyfriend      3\n",
       "Name: shooter_relationship1, dtype: int64"
      ]
     },
     "execution_count": 585,
     "metadata": {},
     "output_type": "execute_result"
    }
   ],
   "source": [
    "df2[\"shooter_relationship1\"].value_counts()"
   ]
  },
  {
   "cell_type": "markdown",
   "metadata": {},
   "source": [
    "All ready."
   ]
  },
  {
   "cell_type": "markdown",
   "metadata": {},
   "source": [
    "______________________________________________________________________________________________________________________\n",
    "\n",
    "##### 3. Cleaning up the variable shooting_type\n",
    "\n",
    "The same for the variable of shooting_type. To convert the shooting_type into dummies, I first have to take a look at all the values to determine if I need to clean up some values."
   ]
  },
  {
   "cell_type": "code",
   "execution_count": 586,
   "metadata": {},
   "outputs": [
    {
     "data": {
      "text/plain": [
       "targeted                       107\n",
       "indiscriminate                  39\n",
       "accidental                      22\n",
       "targeted and indiscriminate      5\n",
       "public suicide                   4\n",
       "unclear                          3\n",
       "hostage suicide                  2\n",
       "accidental or targeted           2\n",
       "public suicide (attempted)       1\n",
       "Name: shooting_type, dtype: int64"
      ]
     },
     "execution_count": 586,
     "metadata": {},
     "output_type": "execute_result"
    }
   ],
   "source": [
    "df2[\"shooting_type\"].value_counts()"
   ]
  },
  {
   "cell_type": "markdown",
   "metadata": {},
   "source": [
    "There are a few values I want to combine such as public suicide and hostage suicide. But other then that, the variable is ready to convert into dummies."
   ]
  },
  {
   "cell_type": "code",
   "execution_count": 587,
   "metadata": {},
   "outputs": [],
   "source": [
    "df2[\"shooting_type\"].replace({\"targeted and indiscriminate\": \"unclear\",\n",
    "                                      \"public suicide\":\"suicide\",\n",
    "                                      \"public suicide (attempted)\":\"suicide\",\n",
    "                                      \"accidental or targeted\":\"unclear\",\n",
    "                                      \"hostage suicide\":\"suicide\"\n",
    "                                    }, inplace=True)"
   ]
  },
  {
   "cell_type": "markdown",
   "metadata": {},
   "source": [
    "______________________________________________________________________________________________________________________\n",
    "\n",
    "##### 4. Dummies of variables shooter_relationship and shooting_type\n",
    "\n",
    "Now Let's make dummies out of these variables."
   ]
  },
  {
   "cell_type": "code",
   "execution_count": 588,
   "metadata": {},
   "outputs": [
    {
     "name": "stdout",
     "output_type": "stream",
     "text": [
      "<class 'pandas.core.frame.DataFrame'>\n",
      "Int64Index: 185 entries, 0 to 236\n",
      "Data columns (total 20 columns):\n",
      " #   Column                           Non-Null Count  Dtype \n",
      "---  ------                           --------------  ----- \n",
      " 0   day_of_week                      185 non-null    object\n",
      " 1   casualties                       185 non-null    int64 \n",
      " 2   school_type                      185 non-null    object\n",
      " 3   enrollment                       185 non-null    object\n",
      " 4   shooting_type                    185 non-null    object\n",
      " 5   gender_shooter1                  185 non-null    object\n",
      " 6   shooter_relationship1            185 non-null    object\n",
      " 7   resource_officer                 185 non-null    int64 \n",
      " 8   casualties_number                185 non-null    int64 \n",
      " 9   shooter_relationship1_boyfriend  185 non-null    uint8 \n",
      " 10  shooter_relationship1_officer    185 non-null    uint8 \n",
      " 11  shooter_relationship1_parent     185 non-null    uint8 \n",
      " 12  shooter_relationship1_remaining  185 non-null    uint8 \n",
      " 13  shooter_relationship1_student    185 non-null    uint8 \n",
      " 14  shooter_relationship1_teacher    185 non-null    uint8 \n",
      " 15  shooting_type_accidental         185 non-null    uint8 \n",
      " 16  shooting_type_indiscriminate     185 non-null    uint8 \n",
      " 17  shooting_type_suicide            185 non-null    uint8 \n",
      " 18  shooting_type_targeted           185 non-null    uint8 \n",
      " 19  shooting_type_unclear            185 non-null    uint8 \n",
      "dtypes: int64(3), object(6), uint8(11)\n",
      "memory usage: 21.4+ KB\n"
     ]
    },
    {
     "data": {
      "text/html": [
       "<div>\n",
       "<style scoped>\n",
       "    .dataframe tbody tr th:only-of-type {\n",
       "        vertical-align: middle;\n",
       "    }\n",
       "\n",
       "    .dataframe tbody tr th {\n",
       "        vertical-align: top;\n",
       "    }\n",
       "\n",
       "    .dataframe thead th {\n",
       "        text-align: right;\n",
       "    }\n",
       "</style>\n",
       "<table border=\"1\" class=\"dataframe\">\n",
       "  <thead>\n",
       "    <tr style=\"text-align: right;\">\n",
       "      <th></th>\n",
       "      <th>day_of_week</th>\n",
       "      <th>casualties</th>\n",
       "      <th>school_type</th>\n",
       "      <th>enrollment</th>\n",
       "      <th>shooting_type</th>\n",
       "      <th>gender_shooter1</th>\n",
       "      <th>shooter_relationship1</th>\n",
       "      <th>resource_officer</th>\n",
       "      <th>casualties_number</th>\n",
       "      <th>shooter_relationship1_boyfriend</th>\n",
       "      <th>shooter_relationship1_officer</th>\n",
       "      <th>shooter_relationship1_parent</th>\n",
       "      <th>shooter_relationship1_remaining</th>\n",
       "      <th>shooter_relationship1_student</th>\n",
       "      <th>shooter_relationship1_teacher</th>\n",
       "      <th>shooting_type_accidental</th>\n",
       "      <th>shooting_type_indiscriminate</th>\n",
       "      <th>shooting_type_suicide</th>\n",
       "      <th>shooting_type_targeted</th>\n",
       "      <th>shooting_type_unclear</th>\n",
       "    </tr>\n",
       "  </thead>\n",
       "  <tbody>\n",
       "    <tr>\n",
       "      <th>0</th>\n",
       "      <td>Tuesday</td>\n",
       "      <td>1</td>\n",
       "      <td>public</td>\n",
       "      <td>1965</td>\n",
       "      <td>indiscriminate</td>\n",
       "      <td>m</td>\n",
       "      <td>student</td>\n",
       "      <td>1</td>\n",
       "      <td>34</td>\n",
       "      <td>0</td>\n",
       "      <td>0</td>\n",
       "      <td>0</td>\n",
       "      <td>0</td>\n",
       "      <td>1</td>\n",
       "      <td>0</td>\n",
       "      <td>0</td>\n",
       "      <td>1</td>\n",
       "      <td>0</td>\n",
       "      <td>0</td>\n",
       "      <td>0</td>\n",
       "    </tr>\n",
       "    <tr>\n",
       "      <th>1</th>\n",
       "      <td>Thursday</td>\n",
       "      <td>1</td>\n",
       "      <td>public</td>\n",
       "      <td>588</td>\n",
       "      <td>targeted</td>\n",
       "      <td>m</td>\n",
       "      <td>student</td>\n",
       "      <td>0</td>\n",
       "      <td>1</td>\n",
       "      <td>0</td>\n",
       "      <td>0</td>\n",
       "      <td>0</td>\n",
       "      <td>0</td>\n",
       "      <td>1</td>\n",
       "      <td>0</td>\n",
       "      <td>0</td>\n",
       "      <td>0</td>\n",
       "      <td>0</td>\n",
       "      <td>1</td>\n",
       "      <td>0</td>\n",
       "    </tr>\n",
       "    <tr>\n",
       "      <th>2</th>\n",
       "      <td>Thursday</td>\n",
       "      <td>1</td>\n",
       "      <td>public</td>\n",
       "      <td>1,369</td>\n",
       "      <td>indiscriminate</td>\n",
       "      <td>m</td>\n",
       "      <td>student</td>\n",
       "      <td>1</td>\n",
       "      <td>6</td>\n",
       "      <td>0</td>\n",
       "      <td>0</td>\n",
       "      <td>0</td>\n",
       "      <td>0</td>\n",
       "      <td>1</td>\n",
       "      <td>0</td>\n",
       "      <td>0</td>\n",
       "      <td>1</td>\n",
       "      <td>0</td>\n",
       "      <td>0</td>\n",
       "      <td>0</td>\n",
       "    </tr>\n",
       "  </tbody>\n",
       "</table>\n",
       "</div>"
      ],
      "text/plain": [
       "  day_of_week  casualties school_type enrollment   shooting_type  \\\n",
       "0     Tuesday           1      public       1965  indiscriminate   \n",
       "1    Thursday           1      public        588        targeted   \n",
       "2    Thursday           1      public      1,369  indiscriminate   \n",
       "\n",
       "  gender_shooter1 shooter_relationship1  resource_officer  casualties_number  \\\n",
       "0               m               student                 1                 34   \n",
       "1               m               student                 0                  1   \n",
       "2               m               student                 1                  6   \n",
       "\n",
       "   shooter_relationship1_boyfriend  shooter_relationship1_officer  \\\n",
       "0                                0                              0   \n",
       "1                                0                              0   \n",
       "2                                0                              0   \n",
       "\n",
       "   shooter_relationship1_parent  shooter_relationship1_remaining  \\\n",
       "0                             0                                0   \n",
       "1                             0                                0   \n",
       "2                             0                                0   \n",
       "\n",
       "   shooter_relationship1_student  shooter_relationship1_teacher  \\\n",
       "0                              1                              0   \n",
       "1                              1                              0   \n",
       "2                              1                              0   \n",
       "\n",
       "   shooting_type_accidental  shooting_type_indiscriminate  \\\n",
       "0                         0                             1   \n",
       "1                         0                             0   \n",
       "2                         0                             1   \n",
       "\n",
       "   shooting_type_suicide  shooting_type_targeted  shooting_type_unclear  \n",
       "0                      0                       0                      0  \n",
       "1                      0                       1                      0  \n",
       "2                      0                       0                      0  "
      ]
     },
     "execution_count": 588,
     "metadata": {},
     "output_type": "execute_result"
    }
   ],
   "source": [
    "dummies = pd.get_dummies(df2[['shooter_relationship1', 'shooting_type']]) #selecting the variables\n",
    "df3 = df2.merge(dummies, left_index= True, right_index= True)\n",
    "df3.info()\n",
    "df3.head(3)"
   ]
  },
  {
   "cell_type": "markdown",
   "metadata": {},
   "source": [
    "I quickly rename the columns, just for the convenience of working with the variable names."
   ]
  },
  {
   "cell_type": "code",
   "execution_count": 589,
   "metadata": {},
   "outputs": [
    {
     "data": {
      "text/html": [
       "<div>\n",
       "<style scoped>\n",
       "    .dataframe tbody tr th:only-of-type {\n",
       "        vertical-align: middle;\n",
       "    }\n",
       "\n",
       "    .dataframe tbody tr th {\n",
       "        vertical-align: top;\n",
       "    }\n",
       "\n",
       "    .dataframe thead th {\n",
       "        text-align: right;\n",
       "    }\n",
       "</style>\n",
       "<table border=\"1\" class=\"dataframe\">\n",
       "  <thead>\n",
       "    <tr style=\"text-align: right;\">\n",
       "      <th></th>\n",
       "      <th>day_of_week</th>\n",
       "      <th>casualties</th>\n",
       "      <th>school_type</th>\n",
       "      <th>enrollment</th>\n",
       "      <th>shooting_type</th>\n",
       "      <th>gender_shooter</th>\n",
       "      <th>shooter_relationship1</th>\n",
       "      <th>resource_officer</th>\n",
       "      <th>casualties_number</th>\n",
       "      <th>S_R_boyfriend</th>\n",
       "      <th>S_R_officer</th>\n",
       "      <th>S_R_parent</th>\n",
       "      <th>S_R_remaining</th>\n",
       "      <th>S_R_student</th>\n",
       "      <th>S_R_teacher</th>\n",
       "      <th>S_type_accidental</th>\n",
       "      <th>S_type_indiscriminate</th>\n",
       "      <th>S_type_suicide</th>\n",
       "      <th>S_type_targeted</th>\n",
       "      <th>S_type_unclear</th>\n",
       "    </tr>\n",
       "  </thead>\n",
       "  <tbody>\n",
       "    <tr>\n",
       "      <th>0</th>\n",
       "      <td>Tuesday</td>\n",
       "      <td>1</td>\n",
       "      <td>public</td>\n",
       "      <td>1965</td>\n",
       "      <td>indiscriminate</td>\n",
       "      <td>m</td>\n",
       "      <td>student</td>\n",
       "      <td>1</td>\n",
       "      <td>34</td>\n",
       "      <td>0</td>\n",
       "      <td>0</td>\n",
       "      <td>0</td>\n",
       "      <td>0</td>\n",
       "      <td>1</td>\n",
       "      <td>0</td>\n",
       "      <td>0</td>\n",
       "      <td>1</td>\n",
       "      <td>0</td>\n",
       "      <td>0</td>\n",
       "      <td>0</td>\n",
       "    </tr>\n",
       "    <tr>\n",
       "      <th>1</th>\n",
       "      <td>Thursday</td>\n",
       "      <td>1</td>\n",
       "      <td>public</td>\n",
       "      <td>588</td>\n",
       "      <td>targeted</td>\n",
       "      <td>m</td>\n",
       "      <td>student</td>\n",
       "      <td>0</td>\n",
       "      <td>1</td>\n",
       "      <td>0</td>\n",
       "      <td>0</td>\n",
       "      <td>0</td>\n",
       "      <td>0</td>\n",
       "      <td>1</td>\n",
       "      <td>0</td>\n",
       "      <td>0</td>\n",
       "      <td>0</td>\n",
       "      <td>0</td>\n",
       "      <td>1</td>\n",
       "      <td>0</td>\n",
       "    </tr>\n",
       "    <tr>\n",
       "      <th>2</th>\n",
       "      <td>Thursday</td>\n",
       "      <td>1</td>\n",
       "      <td>public</td>\n",
       "      <td>1,369</td>\n",
       "      <td>indiscriminate</td>\n",
       "      <td>m</td>\n",
       "      <td>student</td>\n",
       "      <td>1</td>\n",
       "      <td>6</td>\n",
       "      <td>0</td>\n",
       "      <td>0</td>\n",
       "      <td>0</td>\n",
       "      <td>0</td>\n",
       "      <td>1</td>\n",
       "      <td>0</td>\n",
       "      <td>0</td>\n",
       "      <td>1</td>\n",
       "      <td>0</td>\n",
       "      <td>0</td>\n",
       "      <td>0</td>\n",
       "    </tr>\n",
       "    <tr>\n",
       "      <th>3</th>\n",
       "      <td>Monday</td>\n",
       "      <td>1</td>\n",
       "      <td>public</td>\n",
       "      <td>3147</td>\n",
       "      <td>targeted</td>\n",
       "      <td>m</td>\n",
       "      <td>student</td>\n",
       "      <td>1</td>\n",
       "      <td>1</td>\n",
       "      <td>0</td>\n",
       "      <td>0</td>\n",
       "      <td>0</td>\n",
       "      <td>0</td>\n",
       "      <td>1</td>\n",
       "      <td>0</td>\n",
       "      <td>0</td>\n",
       "      <td>0</td>\n",
       "      <td>0</td>\n",
       "      <td>1</td>\n",
       "      <td>0</td>\n",
       "    </tr>\n",
       "    <tr>\n",
       "      <th>5</th>\n",
       "      <td>Friday</td>\n",
       "      <td>1</td>\n",
       "      <td>public</td>\n",
       "      <td>753</td>\n",
       "      <td>unclear</td>\n",
       "      <td>m</td>\n",
       "      <td>student</td>\n",
       "      <td>0</td>\n",
       "      <td>1</td>\n",
       "      <td>0</td>\n",
       "      <td>0</td>\n",
       "      <td>0</td>\n",
       "      <td>0</td>\n",
       "      <td>1</td>\n",
       "      <td>0</td>\n",
       "      <td>0</td>\n",
       "      <td>0</td>\n",
       "      <td>0</td>\n",
       "      <td>0</td>\n",
       "      <td>1</td>\n",
       "    </tr>\n",
       "  </tbody>\n",
       "</table>\n",
       "</div>"
      ],
      "text/plain": [
       "  day_of_week  casualties school_type enrollment   shooting_type  \\\n",
       "0     Tuesday           1      public       1965  indiscriminate   \n",
       "1    Thursday           1      public        588        targeted   \n",
       "2    Thursday           1      public      1,369  indiscriminate   \n",
       "3      Monday           1      public       3147        targeted   \n",
       "5      Friday           1      public        753         unclear   \n",
       "\n",
       "  gender_shooter shooter_relationship1  resource_officer  casualties_number  \\\n",
       "0              m               student                 1                 34   \n",
       "1              m               student                 0                  1   \n",
       "2              m               student                 1                  6   \n",
       "3              m               student                 1                  1   \n",
       "5              m               student                 0                  1   \n",
       "\n",
       "   S_R_boyfriend  S_R_officer  S_R_parent  S_R_remaining  S_R_student  \\\n",
       "0              0            0           0              0            1   \n",
       "1              0            0           0              0            1   \n",
       "2              0            0           0              0            1   \n",
       "3              0            0           0              0            1   \n",
       "5              0            0           0              0            1   \n",
       "\n",
       "   S_R_teacher  S_type_accidental  S_type_indiscriminate  S_type_suicide  \\\n",
       "0            0                  0                      1               0   \n",
       "1            0                  0                      0               0   \n",
       "2            0                  0                      1               0   \n",
       "3            0                  0                      0               0   \n",
       "5            0                  0                      0               0   \n",
       "\n",
       "   S_type_targeted  S_type_unclear  \n",
       "0                0               0  \n",
       "1                1               0  \n",
       "2                0               0  \n",
       "3                1               0  \n",
       "5                0               1  "
      ]
     },
     "execution_count": 589,
     "metadata": {},
     "output_type": "execute_result"
    }
   ],
   "source": [
    "df3 = df3.rename(columns={'gender_shooter1': 'gender_shooter', \n",
    "                          'shooter_relationship1_boyfriend': 'S_R_boyfriend',\n",
    "                          'shooter_relationship1_officer': 'S_R_officer',\n",
    "                          'shooter_relationship1_parent': 'S_R_parent',\n",
    "                          'shooter_relationship1_remaining': 'S_R_remaining',\n",
    "                          'shooter_relationship1_student': 'S_R_student',\n",
    "                          'shooter_relationship1_teacher': 'S_R_teacher',\n",
    "                          'shooting_type_accidental':'S_type_accidental',\n",
    "                          'shooting_type_indiscriminate':'S_type_indiscriminate',\n",
    "                          'shooting_type_suicide':'S_type_suicide',\n",
    "                          'shooting_type_targeted':'S_type_targeted',\n",
    "                          'shooting_type_unclear':'S_type_unclear',\n",
    "                          })\n",
    "\n",
    "df3.head(5)"
   ]
  },
  {
   "cell_type": "markdown",
   "metadata": {},
   "source": [
    "______________________________________________________________________________________________________________________\n",
    "\n",
    "##### 5. Converting the variable 'enrollment'"
   ]
  },
  {
   "cell_type": "markdown",
   "metadata": {},
   "source": [
    "The variable enrollment uses comma's for values over 1000. This was causing trouble. Therefore I changed the the type from object into a int64, so I can easily use this for my visualizations and predictions. Converting it directly into an integer was not possible. Therefore I first changed it into a string and after that I dropped the comma's and changed the type into an integer.\n",
    "\n"
   ]
  },
  {
   "cell_type": "code",
   "execution_count": 590,
   "metadata": {},
   "outputs": [
    {
     "name": "stdout",
     "output_type": "stream",
     "text": [
      "<class 'pandas.core.frame.DataFrame'>\n",
      "Int64Index: 185 entries, 0 to 236\n",
      "Data columns (total 20 columns):\n",
      " #   Column                 Non-Null Count  Dtype \n",
      "---  ------                 --------------  ----- \n",
      " 0   day_of_week            185 non-null    object\n",
      " 1   casualties             185 non-null    int64 \n",
      " 2   school_type            185 non-null    object\n",
      " 3   enrollment             185 non-null    int64 \n",
      " 4   shooting_type          185 non-null    object\n",
      " 5   gender_shooter         185 non-null    object\n",
      " 6   shooter_relationship1  185 non-null    object\n",
      " 7   resource_officer       185 non-null    int64 \n",
      " 8   casualties_number      185 non-null    int64 \n",
      " 9   S_R_boyfriend          185 non-null    uint8 \n",
      " 10  S_R_officer            185 non-null    uint8 \n",
      " 11  S_R_parent             185 non-null    uint8 \n",
      " 12  S_R_remaining          185 non-null    uint8 \n",
      " 13  S_R_student            185 non-null    uint8 \n",
      " 14  S_R_teacher            185 non-null    uint8 \n",
      " 15  S_type_accidental      185 non-null    uint8 \n",
      " 16  S_type_indiscriminate  185 non-null    uint8 \n",
      " 17  S_type_suicide         185 non-null    uint8 \n",
      " 18  S_type_targeted        185 non-null    uint8 \n",
      " 19  S_type_unclear         185 non-null    uint8 \n",
      "dtypes: int64(4), object(5), uint8(11)\n",
      "memory usage: 16.4+ KB\n"
     ]
    }
   ],
   "source": [
    "# converting the variable enrollment to a string\n",
    "df['enrollment'] = df['enrollment'].astype(str)\n",
    "\n",
    "# replacing the comma and converting to an integer\n",
    "df3['enrollment'] = df3['enrollment'].str.replace(',', '').astype(int)\n",
    "\n",
    "df3.info()"
   ]
  },
  {
   "cell_type": "markdown",
   "metadata": {},
   "source": [
    "The data is now ready for further analysis!\n",
    "\n",
    "______________________________________________________________________________________________________________________"
   ]
  },
  {
   "cell_type": "markdown",
   "metadata": {},
   "source": [
    "### 2.2 Feature engineering"
   ]
  },
  {
   "cell_type": "markdown",
   "metadata": {},
   "source": [
    "????????????\n",
    "\n",
    "______________________________________________________________________________________________________________________"
   ]
  },
  {
   "cell_type": "markdown",
   "metadata": {},
   "source": [
    "### 2.2 Data visualizations"
   ]
  },
  {
   "cell_type": "markdown",
   "metadata": {},
   "source": [
    "##### 1. Choosing my variables for prediction (by correlations)\n",
    "\n",
    "First I'll start with finding the most strongly correlating variables so I know which variables can be of use and which don't. I want to predict the casualties, so by sorting the values on casualties I can read the matrix in a more convenient way."
   ]
  },
  {
   "cell_type": "code",
   "execution_count": 591,
   "metadata": {},
   "outputs": [
    {
     "data": {
      "text/html": [
       "<div>\n",
       "<style scoped>\n",
       "    .dataframe tbody tr th:only-of-type {\n",
       "        vertical-align: middle;\n",
       "    }\n",
       "\n",
       "    .dataframe tbody tr th {\n",
       "        vertical-align: top;\n",
       "    }\n",
       "\n",
       "    .dataframe thead th {\n",
       "        text-align: right;\n",
       "    }\n",
       "</style>\n",
       "<table border=\"1\" class=\"dataframe\">\n",
       "  <thead>\n",
       "    <tr style=\"text-align: right;\">\n",
       "      <th></th>\n",
       "      <th>casualties</th>\n",
       "      <th>enrollment</th>\n",
       "      <th>resource_officer</th>\n",
       "      <th>casualties_number</th>\n",
       "      <th>S_R_boyfriend</th>\n",
       "      <th>S_R_officer</th>\n",
       "      <th>S_R_parent</th>\n",
       "      <th>S_R_remaining</th>\n",
       "      <th>S_R_student</th>\n",
       "      <th>S_R_teacher</th>\n",
       "      <th>S_type_accidental</th>\n",
       "      <th>S_type_indiscriminate</th>\n",
       "      <th>S_type_suicide</th>\n",
       "      <th>S_type_targeted</th>\n",
       "      <th>S_type_unclear</th>\n",
       "    </tr>\n",
       "  </thead>\n",
       "  <tbody>\n",
       "    <tr>\n",
       "      <th>casualties</th>\n",
       "      <td>1.000000</td>\n",
       "      <td>0.067670</td>\n",
       "      <td>0.153110</td>\n",
       "      <td>0.257155</td>\n",
       "      <td>-0.023381</td>\n",
       "      <td>0.074252</td>\n",
       "      <td>0.029682</td>\n",
       "      <td>-0.101687</td>\n",
       "      <td>0.001696</td>\n",
       "      <td>0.050654</td>\n",
       "      <td>0.214401</td>\n",
       "      <td>-0.155008</td>\n",
       "      <td>-0.339805</td>\n",
       "      <td>0.130344</td>\n",
       "      <td>-0.025230</td>\n",
       "    </tr>\n",
       "    <tr>\n",
       "      <th>casualties_number</th>\n",
       "      <td>0.257155</td>\n",
       "      <td>0.100965</td>\n",
       "      <td>0.155631</td>\n",
       "      <td>1.000000</td>\n",
       "      <td>-0.038544</td>\n",
       "      <td>-0.052011</td>\n",
       "      <td>-0.060016</td>\n",
       "      <td>-0.025565</td>\n",
       "      <td>0.097609</td>\n",
       "      <td>-0.027708</td>\n",
       "      <td>-0.052840</td>\n",
       "      <td>0.386390</td>\n",
       "      <td>-0.087383</td>\n",
       "      <td>-0.248632</td>\n",
       "      <td>-0.004627</td>\n",
       "    </tr>\n",
       "    <tr>\n",
       "      <th>S_type_accidental</th>\n",
       "      <td>0.214401</td>\n",
       "      <td>0.005138</td>\n",
       "      <td>-0.133293</td>\n",
       "      <td>-0.052840</td>\n",
       "      <td>-0.047167</td>\n",
       "      <td>-0.005455</td>\n",
       "      <td>-0.013972</td>\n",
       "      <td>-0.120613</td>\n",
       "      <td>0.060961</td>\n",
       "      <td>0.102186</td>\n",
       "      <td>1.000000</td>\n",
       "      <td>-0.189877</td>\n",
       "      <td>-0.072855</td>\n",
       "      <td>-0.430291</td>\n",
       "      <td>-0.087821</td>\n",
       "    </tr>\n",
       "    <tr>\n",
       "      <th>resource_officer</th>\n",
       "      <td>0.153110</td>\n",
       "      <td>0.224595</td>\n",
       "      <td>1.000000</td>\n",
       "      <td>0.155631</td>\n",
       "      <td>-0.018847</td>\n",
       "      <td>0.171509</td>\n",
       "      <td>-0.100009</td>\n",
       "      <td>-0.048194</td>\n",
       "      <td>0.051948</td>\n",
       "      <td>-0.106046</td>\n",
       "      <td>-0.133293</td>\n",
       "      <td>-0.021885</td>\n",
       "      <td>-0.163747</td>\n",
       "      <td>0.147628</td>\n",
       "      <td>0.046057</td>\n",
       "    </tr>\n",
       "    <tr>\n",
       "      <th>S_type_targeted</th>\n",
       "      <td>0.130344</td>\n",
       "      <td>-0.040636</td>\n",
       "      <td>0.147628</td>\n",
       "      <td>-0.248632</td>\n",
       "      <td>0.109618</td>\n",
       "      <td>0.142192</td>\n",
       "      <td>0.155689</td>\n",
       "      <td>0.058697</td>\n",
       "      <td>-0.221680</td>\n",
       "      <td>-0.002791</td>\n",
       "      <td>-0.430291</td>\n",
       "      <td>-0.605342</td>\n",
       "      <td>-0.232265</td>\n",
       "      <td>1.000000</td>\n",
       "      <td>-0.279979</td>\n",
       "    </tr>\n",
       "    <tr>\n",
       "      <th>S_R_officer</th>\n",
       "      <td>0.074252</td>\n",
       "      <td>0.024452</td>\n",
       "      <td>0.171509</td>\n",
       "      <td>-0.052011</td>\n",
       "      <td>-0.029033</td>\n",
       "      <td>1.000000</td>\n",
       "      <td>-0.054056</td>\n",
       "      <td>-0.074241</td>\n",
       "      <td>-0.387486</td>\n",
       "      <td>-0.044844</td>\n",
       "      <td>-0.005455</td>\n",
       "      <td>-0.116875</td>\n",
       "      <td>-0.044844</td>\n",
       "      <td>0.142192</td>\n",
       "      <td>-0.054056</td>\n",
       "    </tr>\n",
       "    <tr>\n",
       "      <th>enrollment</th>\n",
       "      <td>0.067670</td>\n",
       "      <td>1.000000</td>\n",
       "      <td>0.224595</td>\n",
       "      <td>0.100965</td>\n",
       "      <td>-0.043126</td>\n",
       "      <td>0.024452</td>\n",
       "      <td>-0.221766</td>\n",
       "      <td>0.029764</td>\n",
       "      <td>0.135433</td>\n",
       "      <td>-0.091433</td>\n",
       "      <td>0.005138</td>\n",
       "      <td>-0.004694</td>\n",
       "      <td>-0.014221</td>\n",
       "      <td>-0.040636</td>\n",
       "      <td>0.101854</td>\n",
       "    </tr>\n",
       "    <tr>\n",
       "      <th>S_R_teacher</th>\n",
       "      <td>0.050654</td>\n",
       "      <td>-0.091433</td>\n",
       "      <td>-0.106046</td>\n",
       "      <td>-0.027708</td>\n",
       "      <td>-0.025460</td>\n",
       "      <td>-0.044844</td>\n",
       "      <td>-0.047405</td>\n",
       "      <td>-0.065105</td>\n",
       "      <td>-0.339805</td>\n",
       "      <td>1.000000</td>\n",
       "      <td>0.102186</td>\n",
       "      <td>-0.033038</td>\n",
       "      <td>-0.039326</td>\n",
       "      <td>-0.002791</td>\n",
       "      <td>-0.047405</td>\n",
       "    </tr>\n",
       "    <tr>\n",
       "      <th>S_R_parent</th>\n",
       "      <td>0.029682</td>\n",
       "      <td>-0.221766</td>\n",
       "      <td>-0.100009</td>\n",
       "      <td>-0.060016</td>\n",
       "      <td>-0.030691</td>\n",
       "      <td>-0.054056</td>\n",
       "      <td>1.000000</td>\n",
       "      <td>-0.078480</td>\n",
       "      <td>-0.409611</td>\n",
       "      <td>-0.047405</td>\n",
       "      <td>-0.013972</td>\n",
       "      <td>-0.123548</td>\n",
       "      <td>-0.047405</td>\n",
       "      <td>0.155689</td>\n",
       "      <td>-0.057143</td>\n",
       "    </tr>\n",
       "    <tr>\n",
       "      <th>S_R_student</th>\n",
       "      <td>0.001696</td>\n",
       "      <td>0.135433</td>\n",
       "      <td>0.051948</td>\n",
       "      <td>0.097609</td>\n",
       "      <td>-0.219996</td>\n",
       "      <td>-0.387486</td>\n",
       "      <td>-0.409611</td>\n",
       "      <td>-0.562560</td>\n",
       "      <td>1.000000</td>\n",
       "      <td>-0.339805</td>\n",
       "      <td>0.060961</td>\n",
       "      <td>0.118971</td>\n",
       "      <td>0.115731</td>\n",
       "      <td>-0.221680</td>\n",
       "      <td>0.084594</td>\n",
       "    </tr>\n",
       "    <tr>\n",
       "      <th>S_R_boyfriend</th>\n",
       "      <td>-0.023381</td>\n",
       "      <td>-0.043126</td>\n",
       "      <td>-0.018847</td>\n",
       "      <td>-0.038544</td>\n",
       "      <td>1.000000</td>\n",
       "      <td>-0.029033</td>\n",
       "      <td>-0.030691</td>\n",
       "      <td>-0.042151</td>\n",
       "      <td>-0.219996</td>\n",
       "      <td>-0.025460</td>\n",
       "      <td>-0.047167</td>\n",
       "      <td>-0.066356</td>\n",
       "      <td>-0.025460</td>\n",
       "      <td>0.109618</td>\n",
       "      <td>-0.030691</td>\n",
       "    </tr>\n",
       "    <tr>\n",
       "      <th>S_type_unclear</th>\n",
       "      <td>-0.025230</td>\n",
       "      <td>0.101854</td>\n",
       "      <td>0.046057</td>\n",
       "      <td>-0.004627</td>\n",
       "      <td>-0.030691</td>\n",
       "      <td>-0.054056</td>\n",
       "      <td>-0.057143</td>\n",
       "      <td>0.002180</td>\n",
       "      <td>0.084594</td>\n",
       "      <td>-0.047405</td>\n",
       "      <td>-0.087821</td>\n",
       "      <td>-0.123548</td>\n",
       "      <td>-0.047405</td>\n",
       "      <td>-0.279979</td>\n",
       "      <td>1.000000</td>\n",
       "    </tr>\n",
       "    <tr>\n",
       "      <th>S_R_remaining</th>\n",
       "      <td>-0.101687</td>\n",
       "      <td>0.029764</td>\n",
       "      <td>-0.048194</td>\n",
       "      <td>-0.025565</td>\n",
       "      <td>-0.042151</td>\n",
       "      <td>-0.074241</td>\n",
       "      <td>-0.078480</td>\n",
       "      <td>1.000000</td>\n",
       "      <td>-0.562560</td>\n",
       "      <td>-0.065105</td>\n",
       "      <td>-0.120613</td>\n",
       "      <td>0.053902</td>\n",
       "      <td>-0.065105</td>\n",
       "      <td>0.058697</td>\n",
       "      <td>0.002180</td>\n",
       "    </tr>\n",
       "    <tr>\n",
       "      <th>S_type_indiscriminate</th>\n",
       "      <td>-0.155008</td>\n",
       "      <td>-0.004694</td>\n",
       "      <td>-0.021885</td>\n",
       "      <td>0.386390</td>\n",
       "      <td>-0.066356</td>\n",
       "      <td>-0.116875</td>\n",
       "      <td>-0.123548</td>\n",
       "      <td>0.053902</td>\n",
       "      <td>0.118971</td>\n",
       "      <td>-0.033038</td>\n",
       "      <td>-0.189877</td>\n",
       "      <td>1.000000</td>\n",
       "      <td>-0.102493</td>\n",
       "      <td>-0.605342</td>\n",
       "      <td>-0.123548</td>\n",
       "    </tr>\n",
       "    <tr>\n",
       "      <th>S_type_suicide</th>\n",
       "      <td>-0.339805</td>\n",
       "      <td>-0.014221</td>\n",
       "      <td>-0.163747</td>\n",
       "      <td>-0.087383</td>\n",
       "      <td>-0.025460</td>\n",
       "      <td>-0.044844</td>\n",
       "      <td>-0.047405</td>\n",
       "      <td>-0.065105</td>\n",
       "      <td>0.115731</td>\n",
       "      <td>-0.039326</td>\n",
       "      <td>-0.072855</td>\n",
       "      <td>-0.102493</td>\n",
       "      <td>1.000000</td>\n",
       "      <td>-0.232265</td>\n",
       "      <td>-0.047405</td>\n",
       "    </tr>\n",
       "  </tbody>\n",
       "</table>\n",
       "</div>"
      ],
      "text/plain": [
       "                       casualties  enrollment  resource_officer  \\\n",
       "casualties               1.000000    0.067670          0.153110   \n",
       "casualties_number        0.257155    0.100965          0.155631   \n",
       "S_type_accidental        0.214401    0.005138         -0.133293   \n",
       "resource_officer         0.153110    0.224595          1.000000   \n",
       "S_type_targeted          0.130344   -0.040636          0.147628   \n",
       "S_R_officer              0.074252    0.024452          0.171509   \n",
       "enrollment               0.067670    1.000000          0.224595   \n",
       "S_R_teacher              0.050654   -0.091433         -0.106046   \n",
       "S_R_parent               0.029682   -0.221766         -0.100009   \n",
       "S_R_student              0.001696    0.135433          0.051948   \n",
       "S_R_boyfriend           -0.023381   -0.043126         -0.018847   \n",
       "S_type_unclear          -0.025230    0.101854          0.046057   \n",
       "S_R_remaining           -0.101687    0.029764         -0.048194   \n",
       "S_type_indiscriminate   -0.155008   -0.004694         -0.021885   \n",
       "S_type_suicide          -0.339805   -0.014221         -0.163747   \n",
       "\n",
       "                       casualties_number  S_R_boyfriend  S_R_officer  \\\n",
       "casualties                      0.257155      -0.023381     0.074252   \n",
       "casualties_number               1.000000      -0.038544    -0.052011   \n",
       "S_type_accidental              -0.052840      -0.047167    -0.005455   \n",
       "resource_officer                0.155631      -0.018847     0.171509   \n",
       "S_type_targeted                -0.248632       0.109618     0.142192   \n",
       "S_R_officer                    -0.052011      -0.029033     1.000000   \n",
       "enrollment                      0.100965      -0.043126     0.024452   \n",
       "S_R_teacher                    -0.027708      -0.025460    -0.044844   \n",
       "S_R_parent                     -0.060016      -0.030691    -0.054056   \n",
       "S_R_student                     0.097609      -0.219996    -0.387486   \n",
       "S_R_boyfriend                  -0.038544       1.000000    -0.029033   \n",
       "S_type_unclear                 -0.004627      -0.030691    -0.054056   \n",
       "S_R_remaining                  -0.025565      -0.042151    -0.074241   \n",
       "S_type_indiscriminate           0.386390      -0.066356    -0.116875   \n",
       "S_type_suicide                 -0.087383      -0.025460    -0.044844   \n",
       "\n",
       "                       S_R_parent  S_R_remaining  S_R_student  S_R_teacher  \\\n",
       "casualties               0.029682      -0.101687     0.001696     0.050654   \n",
       "casualties_number       -0.060016      -0.025565     0.097609    -0.027708   \n",
       "S_type_accidental       -0.013972      -0.120613     0.060961     0.102186   \n",
       "resource_officer        -0.100009      -0.048194     0.051948    -0.106046   \n",
       "S_type_targeted          0.155689       0.058697    -0.221680    -0.002791   \n",
       "S_R_officer             -0.054056      -0.074241    -0.387486    -0.044844   \n",
       "enrollment              -0.221766       0.029764     0.135433    -0.091433   \n",
       "S_R_teacher             -0.047405      -0.065105    -0.339805     1.000000   \n",
       "S_R_parent               1.000000      -0.078480    -0.409611    -0.047405   \n",
       "S_R_student             -0.409611      -0.562560     1.000000    -0.339805   \n",
       "S_R_boyfriend           -0.030691      -0.042151    -0.219996    -0.025460   \n",
       "S_type_unclear          -0.057143       0.002180     0.084594    -0.047405   \n",
       "S_R_remaining           -0.078480       1.000000    -0.562560    -0.065105   \n",
       "S_type_indiscriminate   -0.123548       0.053902     0.118971    -0.033038   \n",
       "S_type_suicide          -0.047405      -0.065105     0.115731    -0.039326   \n",
       "\n",
       "                       S_type_accidental  S_type_indiscriminate  \\\n",
       "casualties                      0.214401              -0.155008   \n",
       "casualties_number              -0.052840               0.386390   \n",
       "S_type_accidental               1.000000              -0.189877   \n",
       "resource_officer               -0.133293              -0.021885   \n",
       "S_type_targeted                -0.430291              -0.605342   \n",
       "S_R_officer                    -0.005455              -0.116875   \n",
       "enrollment                      0.005138              -0.004694   \n",
       "S_R_teacher                     0.102186              -0.033038   \n",
       "S_R_parent                     -0.013972              -0.123548   \n",
       "S_R_student                     0.060961               0.118971   \n",
       "S_R_boyfriend                  -0.047167              -0.066356   \n",
       "S_type_unclear                 -0.087821              -0.123548   \n",
       "S_R_remaining                  -0.120613               0.053902   \n",
       "S_type_indiscriminate          -0.189877               1.000000   \n",
       "S_type_suicide                 -0.072855              -0.102493   \n",
       "\n",
       "                       S_type_suicide  S_type_targeted  S_type_unclear  \n",
       "casualties                  -0.339805         0.130344       -0.025230  \n",
       "casualties_number           -0.087383        -0.248632       -0.004627  \n",
       "S_type_accidental           -0.072855        -0.430291       -0.087821  \n",
       "resource_officer            -0.163747         0.147628        0.046057  \n",
       "S_type_targeted             -0.232265         1.000000       -0.279979  \n",
       "S_R_officer                 -0.044844         0.142192       -0.054056  \n",
       "enrollment                  -0.014221        -0.040636        0.101854  \n",
       "S_R_teacher                 -0.039326        -0.002791       -0.047405  \n",
       "S_R_parent                  -0.047405         0.155689       -0.057143  \n",
       "S_R_student                  0.115731        -0.221680        0.084594  \n",
       "S_R_boyfriend               -0.025460         0.109618       -0.030691  \n",
       "S_type_unclear              -0.047405        -0.279979        1.000000  \n",
       "S_R_remaining               -0.065105         0.058697        0.002180  \n",
       "S_type_indiscriminate       -0.102493        -0.605342       -0.123548  \n",
       "S_type_suicide               1.000000        -0.232265       -0.047405  "
      ]
     },
     "execution_count": 591,
     "metadata": {},
     "output_type": "execute_result"
    }
   ],
   "source": [
    "corr = df3.corr().sort_values('casualties', ascending=False)\n",
    "corr"
   ]
  },
  {
   "cell_type": "code",
   "execution_count": 592,
   "metadata": {},
   "outputs": [
    {
     "data": {
      "image/png": "[encoded data removed]",
      "text/plain": [
       "<Figure size 1008x576 with 2 Axes>"
      ]
     },
     "metadata": {
      "needs_background": "light"
     },
     "output_type": "display_data"
    }
   ],
   "source": [
    "# Let's plot the correlation into a heatmap\n",
    "# I used: annot = True, to also display the corr values. But for now, just the colors will do.\n",
    "plt.figure(figsize=(14,8))\n",
    "sns.heatmap(corr, xticklabels=corr.columns, yticklabels=corr.columns, cmap='YlGnBu') #the last two arguments set the column names\n",
    "plt.title(\"Correlation heatmap of all variables (Sorted by casualties)\")\n",
    "plt.show()"
   ]
  },
  {
   "cell_type": "markdown",
   "metadata": {},
   "source": [
    "<b>The most interesting correlations with casualties are:</b>\n",
    "<ul>\n",
    "  <li><i>enrollment</i></li>\n",
    "  <li><i>resource_officer</i></li>\n",
    "  <li><i>S_R_boyfriend</i></li>\n",
    "  <li><i>S_R_officer</i></li>\n",
    "</ul>\n",
    "The remaining values have very similar correlations.\n",
    "\n",
    "\n",
    "<b>Strong correlations between other values (so not direct in relation to casualties):</b>\n",
    "<ul>\n",
    "  <li><i>S_R_parent + enrollment</i></li>\n",
    "  <li><i>Casualties_number + S_type_targeted</i></li>  \n",
    "  <li><i>Casualties_number + resource_officer</i></li>\n",
    "  <li><i>Casualties_number + enrollment</i></li>\n",
    "  <li><i>S_R_boyfriend + S_type_accidental</i></li>\n",
    "  <li><i>S_R_officer + S_R_officer</i></li>\n",
    "  <li><i>S_R_student + S_R_parent</i></li>\n",
    "  <li><i>S_R_remaining + S_type_suicide</i></li>\n",
    "  <li><i>S_R_teacher + S_R_student</i></li>\n",
    "  <li><i>S_R_officer + S_type_accidental</i></li>\n",
    "  <li><i>enrollment + S_type_indiscriminate</i></li>\n",
    "  <li><i>S_type_targeted + S_type_indiscriminate</i></li>\n",
    "  <li><i>S_type_suicide + S_type_unclear</i></li>\n",
    "  <li><i>S_type_indiscriminate + S_type_unclear</i></li>\n",
    "  <li><i>S_R_boyfriend + S_type_targeted</i></li>\n",
    "</ul>\n",
    "\n",
    "The confusing part here is the different relations between casualties and values + casualties_numbers and values. Casualties are the dummies of casualties_numbers so I was expecting them to be the same. Could not find the answer to this, in the limited time left.\n",
    "\n",
    "______________________________________________________________________________________________________________________"
   ]
  },
  {
   "cell_type": "markdown",
   "metadata": {},
   "source": [
    "##### 2. Visualizing the resource of an officer at school\n",
    "\n",
    "Let's start with visualizing some of the variables that had a high correlation with casualties. "
   ]
  },
  {
   "cell_type": "code",
   "execution_count": 593,
   "metadata": {},
   "outputs": [
    {
     "data": {
      "text/plain": [
       "Text(0, 0.5, 'The resource of an officer at school')"
      ]
     },
     "execution_count": 593,
     "metadata": {},
     "output_type": "execute_result"
    },
    {
     "data": {
      "image/png": "[encoded data removed]",
      "text/plain": [
       "<Figure size 432x288 with 1 Axes>"
      ]
     },
     "metadata": {
      "needs_background": "light"
     },
     "output_type": "display_data"
    }
   ],
   "source": [
    "sns.barplot(x=\"casualties\", y=\"resource_officer\", data=df3)\n",
    "plt.title(\"Probability of casualties with the resource of an officer\")\n",
    "plt.xlabel('Casualties: no / yes')\n",
    "plt.ylabel('The resource of an officer at school')"
   ]
  },
  {
   "cell_type": "markdown",
   "metadata": {},
   "source": [
    "Not 100% sure why it gives me no exact full number. However, here you can see on the y-axis that the schools with an officer, had more casualties compared to schools without a resource officer. Ofcourse this also can have something to do with the enrollment, as school with more students might need more surveillance in order to facilitate and secure everything. So let's check that out, by visualizing the casualties and enrollment."
   ]
  },
  {
   "cell_type": "markdown",
   "metadata": {},
   "source": [
    "______________________________________________________________________________________________________________________\n",
    "\n",
    "##### 3. Visualizing values of the school enrollment"
   ]
  },
  {
   "cell_type": "code",
   "execution_count": 594,
   "metadata": {},
   "outputs": [
    {
     "data": {
      "text/plain": [
       "<matplotlib.axes._subplots.AxesSubplot at 0x7fb11824bb80>"
      ]
     },
     "execution_count": 594,
     "metadata": {},
     "output_type": "execute_result"
    },
    {
     "data": {
      "image/png": "[encoded data removed]",
      "text/plain": [
       "<Figure size 432x288 with 1 Axes>"
      ]
     },
     "metadata": {
      "needs_background": "light"
     },
     "output_type": "display_data"
    }
   ],
   "source": [
    "sns.distplot(df3['enrollment'])"
   ]
  },
  {
   "cell_type": "markdown",
   "metadata": {},
   "source": [
    "WRITE DOWN THE RESULT!!!!!!!!!!!"
   ]
  },
  {
   "cell_type": "markdown",
   "metadata": {},
   "source": [
    "______________________________________________________________________________________________________________________\n",
    "\n",
    "##### 4. Visualizing the density of casualties for school enrollment"
   ]
  },
  {
   "cell_type": "code",
   "execution_count": 595,
   "metadata": {},
   "outputs": [
    {
     "data": {
      "text/plain": [
       "Text(0, 0.5, 'Enrollment of school')"
      ]
     },
     "execution_count": 595,
     "metadata": {},
     "output_type": "execute_result"
    },
    {
     "data": {
      "image/png": "[encoded data removed]",
      "text/plain": [
       "<Figure size 432x288 with 1 Axes>"
      ]
     },
     "metadata": {
      "needs_background": "light"
     },
     "output_type": "display_data"
    }
   ],
   "source": [
    "sns.violinplot(data=df3, x='casualties', y='enrollment')\n",
    "plt.title(\"Density of casualties for school enrollment\")\n",
    "plt.xlabel('Casualties: no / yes')\n",
    "plt.ylabel('Enrollment of school')"
   ]
  },
  {
   "cell_type": "markdown",
   "metadata": {},
   "source": [
    "You can see that the highest number of enrollment for no casualties was around 3500 students. While when there were casualties, it went up to even schools from over 4000 students. However you can see that the median and the interquartile range are not that different. The density estimation (how wide the shape is) represent the higher probability of the given value: in this case around +/- 700/800 students.\n",
    "\n",
    "This shows that there might be very small link between the enrollment the school, the resource officer and the casualties, but as this graph shows it's not strong enough to disgard this correlation. <i>Therefore I want to include these variables in my prediction.</i>\n",
    "\n",
    "I also want to check the role of an officer being the shooter and the casualties. So let's continue with that."
   ]
  },
  {
   "cell_type": "markdown",
   "metadata": {},
   "source": [
    "______________________________________________________________________________________________________________________\n",
    "\n",
    "##### 5. Officer being the shooter vs. casualties (and the resource of an officer at school)"
   ]
  },
  {
   "cell_type": "code",
   "execution_count": 596,
   "metadata": {},
   "outputs": [
    {
     "data": {
      "text/plain": [
       "Text(0, 0.5, 'title')"
      ]
     },
     "execution_count": 596,
     "metadata": {},
     "output_type": "execute_result"
    },
    {
     "data": {
      "image/png": "[encoded data removed]",
      "text/plain": [
       "<Figure size 432x288 with 1 Axes>"
      ]
     },
     "metadata": {
      "needs_background": "light"
     },
     "output_type": "display_data"
    }
   ],
   "source": [
    "sns.pointplot(data=df3, x='casualties', y='S_R_officer', hue='resource_officer')\n",
    "plt.legend(bbox_to_anchor=(1.05, 1), loc=2, borderaxespad=0.) #moving the legend to the side otherwise it blocked the graph\n",
    "plt.title(\"title\")\n",
    "plt.xlabel('casualties')\n",
    "plt.ylabel('title')"
   ]
  },
  {
   "cell_type": "markdown",
   "metadata": {},
   "source": [
    "WRITE DOWN THE RESULT!!!!!!!!!!!"
   ]
  },
  {
   "cell_type": "markdown",
   "metadata": {},
   "source": [
    "______________________________________________________________________________________________________________________\n",
    "\n",
    "##### 6. Casualties when the relationship of the shooter is a boyfriend"
   ]
  },
  {
   "cell_type": "code",
   "execution_count": 597,
   "metadata": {},
   "outputs": [
    {
     "data": {
      "text/plain": [
       "Text(6.799999999999997, 0.5, 'Shooter relationship: boyfriend')"
      ]
     },
     "execution_count": 597,
     "metadata": {},
     "output_type": "execute_result"
    },
    {
     "data": {
      "image/png": "[encoded data removed]",
      "text/plain": [
       "<Figure size 360x360 with 1 Axes>"
      ]
     },
     "metadata": {
      "needs_background": "light"
     },
     "output_type": "display_data"
    }
   ],
   "source": [
    "sns.catplot(x=\"casualties\", y=\"S_R_boyfriend\", kind=\"swarm\", data=df3)\n",
    "plt.title(\"Casualties when the relationship of the shooter is a boyfriend\")\n",
    "plt.xlabel('Amount of casualties')\n",
    "plt.ylabel('Shooter relationship: boyfriend')"
   ]
  },
  {
   "cell_type": "markdown",
   "metadata": {},
   "source": [
    "We want to predict the casualties. You can read this as for almost all occasions of casualties or non-casualties there was no boyfriend involved. However, when the shooter relationship is a boyfriend than then you get one dot with no casualties and 2 dots for casualties. This shows that 2 out of 3 shootings will be <b>with</b> casualties. So this therefore will show a strong correlation. I will thus add this variable this in my prediction."
   ]
  },
  {
   "cell_type": "markdown",
   "metadata": {},
   "source": [
    "______________________________________________________________________________________________________________________\n",
    "\n",
    "##### 7. Checking the difference between casualties and casualties number\n",
    "\n",
    "TEST!!! & ASK. Cras ultricies ligula sed magna dictum porta. Curabitur arcu erat, accumsan id imperdiet et, porttitor at sem. Curabitur arcu erat, accumsan id imperdiet et, porttitor at sem. Donec sollicitudin molestie malesuada. Cras ultricies ligula sed magna dictum porta."
   ]
  },
  {
   "cell_type": "code",
   "execution_count": 598,
   "metadata": {},
   "outputs": [
    {
     "data": {
      "text/plain": [
       "<matplotlib.axes._subplots.AxesSubplot at 0x7fb1184b3220>"
      ]
     },
     "execution_count": 598,
     "metadata": {},
     "output_type": "execute_result"
    },
    {
     "data": {
      "image/png": "[encoded data removed]",
      "text/plain": [
       "<Figure size 432x288 with 1 Axes>"
      ]
     },
     "metadata": {
      "needs_background": "light"
     },
     "output_type": "display_data"
    }
   ],
   "source": [
    "sns.lineplot(data=df3, x=\"casualties\", y=\"casualties_number\", hue=\"S_type_indiscriminate\")"
   ]
  },
  {
   "cell_type": "markdown",
   "metadata": {},
   "source": [
    "Cras ultricies ligula sed magna dictum porta. Curabitur arcu erat, accumsan id imperdiet et, porttitor at sem. Curabitur arcu erat, accumsan id imperdiet et, porttitor at sem. Donec sollicitudin molestie malesuada. Cras ultricies ligula sed magna dictum porta."
   ]
  },
  {
   "cell_type": "markdown",
   "metadata": {},
   "source": [
    "______________________________________________________________________________________________________________________\n",
    "\n",
    "\n",
    "## 3.0 Predictive model\n",
    "\n",
    "WRITE DOWN THE RESULT!!!!!!!!!!!\n",
    "Cras ultricies ligula sed magna dictum porta. Curabitur arcu erat, accumsan id imperdiet et, porttitor at sem. Curabitur arcu erat, accumsan id imperdiet et, porttitor at sem. Donec sollicitudin molestie malesuada. Cras ultricies ligula sed magna dictum porta.\n",
    "\n",
    "______________________________________________________________________________________________________________________\n",
    "\n",
    "\n",
    "### 3.1 Training the algorithm"
   ]
  },
  {
   "cell_type": "markdown",
   "metadata": {},
   "source": [
    "K- Nearest Neighbors or also known as K-NN is one of the simplest and strongest algorithm which belongs to the family of supervised machine learning algorithms which means we use labeled (Target Variable) dataset to predict the class of new data point. It is use for mostly in classification problems and as well as regression problems. KNN also called as the non-parametric, lazy learning algorithm.\n",
    "It is commonly used for its easy of interpretation and low calculation time. The working flow of the algorithm is follow. The “K” in the KNN algorithm is the nearest neighbor we wish to take the vote from."
   ]
  },
  {
   "cell_type": "markdown",
   "metadata": {},
   "source": [
    "Cras ultricies ligula sed magna dictum porta. Curabitur arcu erat, accumsan id imperdiet et, porttitor at sem. Curabitur arcu erat, accumsan id imperdiet et, porttitor at sem. Donec sollicitudin molestie malesuada. Cras ultricies ligula sed magna dictum porta."
   ]
  },
  {
   "cell_type": "code",
   "execution_count": 599,
   "metadata": {},
   "outputs": [
    {
     "data": {
      "text/html": [
       "<div>\n",
       "<style scoped>\n",
       "    .dataframe tbody tr th:only-of-type {\n",
       "        vertical-align: middle;\n",
       "    }\n",
       "\n",
       "    .dataframe tbody tr th {\n",
       "        vertical-align: top;\n",
       "    }\n",
       "\n",
       "    .dataframe thead th {\n",
       "        text-align: right;\n",
       "    }\n",
       "</style>\n",
       "<table border=\"1\" class=\"dataframe\">\n",
       "  <thead>\n",
       "    <tr style=\"text-align: right;\">\n",
       "      <th></th>\n",
       "      <th>resource_officer</th>\n",
       "      <th>enrollment</th>\n",
       "      <th>S_R_officer</th>\n",
       "      <th>S_R_boyfriend</th>\n",
       "      <th>S_type_accidental</th>\n",
       "      <th>S_R_student</th>\n",
       "      <th>S_R_parent</th>\n",
       "      <th>S_R_teacher</th>\n",
       "      <th>S_type_suicide</th>\n",
       "    </tr>\n",
       "  </thead>\n",
       "  <tbody>\n",
       "    <tr>\n",
       "      <th>31</th>\n",
       "      <td>0</td>\n",
       "      <td>151</td>\n",
       "      <td>0</td>\n",
       "      <td>0</td>\n",
       "      <td>0</td>\n",
       "      <td>1</td>\n",
       "      <td>0</td>\n",
       "      <td>0</td>\n",
       "      <td>0</td>\n",
       "    </tr>\n",
       "    <tr>\n",
       "      <th>49</th>\n",
       "      <td>1</td>\n",
       "      <td>1090</td>\n",
       "      <td>0</td>\n",
       "      <td>0</td>\n",
       "      <td>0</td>\n",
       "      <td>1</td>\n",
       "      <td>0</td>\n",
       "      <td>0</td>\n",
       "      <td>0</td>\n",
       "    </tr>\n",
       "    <tr>\n",
       "      <th>110</th>\n",
       "      <td>0</td>\n",
       "      <td>292</td>\n",
       "      <td>0</td>\n",
       "      <td>0</td>\n",
       "      <td>0</td>\n",
       "      <td>1</td>\n",
       "      <td>0</td>\n",
       "      <td>0</td>\n",
       "      <td>0</td>\n",
       "    </tr>\n",
       "    <tr>\n",
       "      <th>36</th>\n",
       "      <td>0</td>\n",
       "      <td>297</td>\n",
       "      <td>0</td>\n",
       "      <td>0</td>\n",
       "      <td>0</td>\n",
       "      <td>0</td>\n",
       "      <td>1</td>\n",
       "      <td>0</td>\n",
       "      <td>0</td>\n",
       "    </tr>\n",
       "    <tr>\n",
       "      <th>58</th>\n",
       "      <td>0</td>\n",
       "      <td>1012</td>\n",
       "      <td>0</td>\n",
       "      <td>0</td>\n",
       "      <td>0</td>\n",
       "      <td>1</td>\n",
       "      <td>0</td>\n",
       "      <td>0</td>\n",
       "      <td>0</td>\n",
       "    </tr>\n",
       "  </tbody>\n",
       "</table>\n",
       "</div>"
      ],
      "text/plain": [
       "     resource_officer  enrollment  S_R_officer  S_R_boyfriend  \\\n",
       "31                  0         151            0              0   \n",
       "49                  1        1090            0              0   \n",
       "110                 0         292            0              0   \n",
       "36                  0         297            0              0   \n",
       "58                  0        1012            0              0   \n",
       "\n",
       "     S_type_accidental  S_R_student  S_R_parent  S_R_teacher  S_type_suicide  \n",
       "31                   0            1           0            0               0  \n",
       "49                   0            1           0            0               0  \n",
       "110                  0            1           0            0               0  \n",
       "36                   0            0           1            0               0  \n",
       "58                   0            1           0            0               0  "
      ]
     },
     "execution_count": 599,
     "metadata": {},
     "output_type": "execute_result"
    }
   ],
   "source": [
    "from sklearn.model_selection import train_test_split\n",
    "from sklearn.ensemble import RandomForestClassifier \n",
    "from sklearn.metrics import confusion_matrix\n",
    "from sklearn.metrics import classification_report\n",
    "import sklearn as sk\n",
    "\n",
    "X = df3[['resource_officer', 'enrollment','S_R_officer', 'S_R_boyfriend', 'S_type_accidental', 'S_R_student', 'S_R_parent', 'S_R_teacher', 'S_type_suicide']]\n",
    "y = df3['casualties']\n",
    "X_train, X_test, y_train, y_test = train_test_split(X, y, test_size=0.3, random_state=1)\n",
    "\n",
    "X_train.head()"
   ]
  },
  {
   "cell_type": "markdown",
   "metadata": {},
   "source": [
    "### 3.2 Classification with k-nearest neigbor (KNN)"
   ]
  },
  {
   "cell_type": "code",
   "execution_count": 600,
   "metadata": {},
   "outputs": [
    {
     "data": {
      "text/plain": [
       "0.7142857142857143"
      ]
     },
     "execution_count": 600,
     "metadata": {},
     "output_type": "execute_result"
    }
   ],
   "source": [
    "from sklearn.neighbors import KNeighborsClassifier #the object class we need\n",
    "\n",
    "knn = KNeighborsClassifier(n_neighbors=5) #create a KNN-classifier with 5 neighbors (default)\n",
    "knn = knn.fit(X_train, y_train) #this fits the k-nearest neigbor model with the train data\n",
    "knn.score(X_test, y_test) #calculate the fit on the test data"
   ]
  },
  {
   "cell_type": "markdown",
   "metadata": {},
   "source": [
    "Cras ultricies ligula sed magna dictum porta. Curabitur arcu erat, accumsan id imperdiet et, porttitor at sem. Curabitur arcu erat, accumsan id imperdiet et, porttitor at sem. Donec sollicitudin molestie malesuada. Cras ultricies ligula sed magna dictum porta."
   ]
  },
  {
   "cell_type": "markdown",
   "metadata": {},
   "source": [
    "______________________________________________________________________________________________________________________\n",
    "\n",
    "### 3.3 Evaluating the model"
   ]
  },
  {
   "cell_type": "code",
   "execution_count": 601,
   "metadata": {},
   "outputs": [
    {
     "data": {
      "text/plain": [
       "array([[ 2, 13],\n",
       "       [ 3, 38]])"
      ]
     },
     "execution_count": 601,
     "metadata": {},
     "output_type": "execute_result"
    }
   ],
   "source": [
    "from sklearn.metrics import confusion_matrix\n",
    "\n",
    "y_test_pred = knn.predict(X_test) #the predicted values\n",
    "cm = confusion_matrix(y_test, y_test_pred) #creates a \"confusion matrix\"\n",
    "cm"
   ]
  },
  {
   "cell_type": "markdown",
   "metadata": {},
   "source": [
    "To know which row/column is which value we can use the object 'classes'"
   ]
  },
  {
   "cell_type": "code",
   "execution_count": 602,
   "metadata": {},
   "outputs": [
    {
     "data": {
      "text/plain": [
       "array([0, 1])"
      ]
     },
     "execution_count": 602,
     "metadata": {},
     "output_type": "execute_result"
    }
   ],
   "source": [
    "knn.classes_"
   ]
  },
  {
   "cell_type": "markdown",
   "metadata": {},
   "source": [
    "Cras ultricies ligula sed magna dictum porta. Curabitur arcu erat, accumsan id imperdiet et, porttitor at sem. Curabitur arcu erat, accumsan id imperdiet et, porttitor at sem. Donec sollicitudin molestie malesuada. Cras ultricies ligula sed magna dictum porta."
   ]
  },
  {
   "cell_type": "code",
   "execution_count": 603,
   "metadata": {},
   "outputs": [
    {
     "data": {
      "text/html": [
       "<div>\n",
       "<style scoped>\n",
       "    .dataframe tbody tr th:only-of-type {\n",
       "        vertical-align: middle;\n",
       "    }\n",
       "\n",
       "    .dataframe tbody tr th {\n",
       "        vertical-align: top;\n",
       "    }\n",
       "\n",
       "    .dataframe thead th {\n",
       "        text-align: right;\n",
       "    }\n",
       "</style>\n",
       "<table border=\"1\" class=\"dataframe\">\n",
       "  <thead>\n",
       "    <tr style=\"text-align: right;\">\n",
       "      <th></th>\n",
       "      <th>casualties (predicted)</th>\n",
       "      <th>non-casualties (predicted)</th>\n",
       "    </tr>\n",
       "  </thead>\n",
       "  <tbody>\n",
       "    <tr>\n",
       "      <th>casualties (actual)</th>\n",
       "      <td>2</td>\n",
       "      <td>13</td>\n",
       "    </tr>\n",
       "    <tr>\n",
       "      <th>non-casualties (actual)</th>\n",
       "      <td>3</td>\n",
       "      <td>38</td>\n",
       "    </tr>\n",
       "  </tbody>\n",
       "</table>\n",
       "</div>"
      ],
      "text/plain": [
       "                         casualties (predicted)  non-casualties (predicted)\n",
       "casualties (actual)                           2                          13\n",
       "non-casualties (actual)                       3                          38"
      ]
     },
     "execution_count": 603,
     "metadata": {},
     "output_type": "execute_result"
    }
   ],
   "source": [
    "y_pred = knn.predict(X_test) #the predicted values\n",
    "conf_matrix = confusion_matrix(y_test, y_pred) #creates a \"confusion matrix\"\n",
    "conf_matrix = pd.DataFrame(cm, index=['casualties (actual)', 'non-casualties (actual)'], columns = ['casualties (predicted)', 'non-casualties (predicted)']) \n",
    "conf_matrix"
   ]
  },
  {
   "cell_type": "markdown",
   "metadata": {},
   "source": [
    "Cras ultricies ligula sed magna dictum porta. Curabitur arcu erat, accumsan id imperdiet et, porttitor at sem. Curabitur arcu erat, accumsan id imperdiet et, porttitor at sem. Donec sollicitudin molestie malesuada. Cras ultricies ligula sed magna dictum porta."
   ]
  },
  {
   "cell_type": "markdown",
   "metadata": {},
   "source": [
    "______________________________________________________________________________________________________________________\n",
    "\n",
    "### 3.4 Parameter setting"
   ]
  },
  {
   "cell_type": "code",
   "execution_count": 604,
   "metadata": {},
   "outputs": [
    {
     "name": "stdout",
     "output_type": "stream",
     "text": [
      "With 1 neighbors the result is:\n",
      "              precision    recall  f1-score   support\n",
      "\n",
      "           0       0.29      0.27      0.28        15\n",
      "           1       0.74      0.76      0.75        41\n",
      "\n",
      "    accuracy                           0.62        56\n",
      "   macro avg       0.51      0.51      0.51        56\n",
      "weighted avg       0.62      0.62      0.62        56\n",
      "\n",
      "With 2 neighbors the result is:\n",
      "              precision    recall  f1-score   support\n",
      "\n",
      "           0       0.27      0.47      0.34        15\n",
      "           1       0.73      0.54      0.62        41\n",
      "\n",
      "    accuracy                           0.52        56\n",
      "   macro avg       0.50      0.50      0.48        56\n",
      "weighted avg       0.61      0.52      0.55        56\n",
      "\n",
      "With 3 neighbors the result is:\n",
      "              precision    recall  f1-score   support\n",
      "\n",
      "           0       0.27      0.20      0.23        15\n",
      "           1       0.73      0.80      0.77        41\n",
      "\n",
      "    accuracy                           0.64        56\n",
      "   macro avg       0.50      0.50      0.50        56\n",
      "weighted avg       0.61      0.64      0.62        56\n",
      "\n",
      "With 4 neighbors the result is:\n",
      "              precision    recall  f1-score   support\n",
      "\n",
      "           0       0.27      0.27      0.27        15\n",
      "           1       0.73      0.73      0.73        41\n",
      "\n",
      "    accuracy                           0.61        56\n",
      "   macro avg       0.50      0.50      0.50        56\n",
      "weighted avg       0.61      0.61      0.61        56\n",
      "\n",
      "With 5 neighbors the result is:\n",
      "              precision    recall  f1-score   support\n",
      "\n",
      "           0       0.40      0.13      0.20        15\n",
      "           1       0.75      0.93      0.83        41\n",
      "\n",
      "    accuracy                           0.71        56\n",
      "   macro avg       0.57      0.53      0.51        56\n",
      "weighted avg       0.65      0.71      0.66        56\n",
      "\n",
      "With 6 neighbors the result is:\n",
      "              precision    recall  f1-score   support\n",
      "\n",
      "           0       0.33      0.13      0.19        15\n",
      "           1       0.74      0.90      0.81        41\n",
      "\n",
      "    accuracy                           0.70        56\n",
      "   macro avg       0.54      0.52      0.50        56\n",
      "weighted avg       0.63      0.70      0.65        56\n",
      "\n",
      "With 7 neighbors the result is:\n",
      "              precision    recall  f1-score   support\n",
      "\n",
      "           0       0.50      0.07      0.12        15\n",
      "           1       0.74      0.98      0.84        41\n",
      "\n",
      "    accuracy                           0.73        56\n",
      "   macro avg       0.62      0.52      0.48        56\n",
      "weighted avg       0.68      0.73      0.65        56\n",
      "\n"
     ]
    }
   ],
   "source": [
    "from sklearn.metrics import classification_report\n",
    "\n",
    "for i in range(1,8):\n",
    "    knn_new = KNeighborsClassifier(n_neighbors = i) #make a new kNN model with i (1-8) neighbors\n",
    "    knn_new = knn_new.fit(X_train, y_train) #fit new model on train data\n",
    "    y_test_pred_new = knn_new.predict(X_test) #predict using new model, with test data\n",
    "    print(f\"With {i} neighbors the result is:\")\n",
    "    print(classification_report(y_test, y_test_pred_new)) #use a built-in function to print out accuracy, precision and recall"
   ]
  },
  {
   "cell_type": "markdown",
   "metadata": {},
   "source": [
    "Precision — The ability of a classifier not to label an instance positive that is actually negative.\n",
    "\n",
    "\n",
    "Recall — The ability of a classifier to find all positive instances.\n",
    "\n",
    "\n",
    "F1-score — A weighted harmonic mean of precision and recall such that the best score is 1.0 and the worst is 0.0. \n",
    "\n",
    "\n",
    "Support — The number of actual occurrences of the class in the specified dataset.\n",
    "\n",
    "Cras ultricies ligula sed magna dictum porta. Curabitur arcu erat, accumsan id imperdiet et, porttitor at sem. Curabitur arcu erat, accumsan id imperdiet et, porttitor at sem. Donec sollicitudin molestie malesuada. Cras ultricies ligula sed magna dictum porta."
   ]
  },
  {
   "cell_type": "code",
   "execution_count": 605,
   "metadata": {},
   "outputs": [],
   "source": [
    "#from sklearn.metrics import accuracy_score\n",
    "#print('the accurarcy of casualties =', accuracy_score(y_pred, y_test)*100)"
   ]
  },
  {
   "cell_type": "code",
   "execution_count": 606,
   "metadata": {},
   "outputs": [
    {
     "data": {
      "text/plain": [
       "<matplotlib.axes._subplots.AxesSubplot at 0x7fb1185c5940>"
      ]
     },
     "execution_count": 606,
     "metadata": {},
     "output_type": "execute_result"
    },
    {
     "data": {
      "image/png": "[encoded data removed]",
      "text/plain": [
       "<Figure size 432x288 with 2 Axes>"
      ]
     },
     "metadata": {
      "needs_background": "light"
     },
     "output_type": "display_data"
    }
   ],
   "source": [
    "from sklearn.metrics import confusion_matrix\n",
    "mat = confusion_matrix (y_test, y_pred)\n",
    "sns.heatmap(mat.T, square=True, annot=True)\n"
   ]
  },
  {
   "cell_type": "markdown",
   "metadata": {},
   "source": [
    "observation of this model example: The model predicted 112 instances were in the “benign (0)” stage while only 107 were and it predicted that 59 instances were in “malignant (1)” when only 58 was."
   ]
  },
  {
   "cell_type": "markdown",
   "metadata": {},
   "source": [
    "______________________________________________________________________________________________________________________\n",
    "\n",
    "### 3.5 KNN - Changing some variables\n",
    "\n",
    "So the results are.\n",
    "\n",
    "How I came up with this result: I did multipe trails of testing. I started with using the 4 variables that had the strongest correlation with casualties"
   ]
  },
  {
   "cell_type": "markdown",
   "metadata": {},
   "source": [
    "______________________________________________________________________________________________________________________\n",
    "\n",
    "\n",
    "### 3.6 Quick comparison with Random forest\n",
    "\n",
    "Proin eget tortor risus. Nulla quis lorem ut libero malesuada feugiat. Nulla porttitor accumsan tincidunt. Proin eget tortor risus. Nulla quis lorem ut libero malesuada feugiat. Nulla porttitor accumsan tincidunt.\n",
    "______________________________________________________________________________________________________________________\n"
   ]
  },
  {
   "cell_type": "code",
   "execution_count": 607,
   "metadata": {},
   "outputs": [],
   "source": [
    "from sklearn.model_selection import train_test_split\n",
    "from sklearn.ensemble import RandomForestClassifier \n",
    "from sklearn.metrics import confusion_matrix\n",
    "from sklearn.metrics import classification_report\n",
    "import sklearn as sk"
   ]
  },
  {
   "cell_type": "code",
   "execution_count": 608,
   "metadata": {},
   "outputs": [],
   "source": [
    "#X = df3[['resource_officer', 'enrollment','S_R_officer', 'S_R_boyfriend', 'S_type_accidental', 'S_R_student', 'S_R_parent', 'S_R_teacher', 'S_type_suicide']]\n",
    "#y = df3['casualties']\n",
    "#X_train, X_test, y_train, y_test = train_test_split(X, y, test_size=0.3, random_state=1)\n",
    "\n",
    "#X_train.head()"
   ]
  },
  {
   "cell_type": "markdown",
   "metadata": {},
   "source": [
    "Cras ultricies ligula sed magna dictum porta. Curabitur arcu erat, accumsan id imperdiet et, porttitor at sem. Curabitur arcu erat, accumsan id imperdiet et, porttitor at sem. Donec sollicitudin molestie malesuada. Cras ultricies ligula sed magna dictum porta."
   ]
  },
  {
   "cell_type": "code",
   "execution_count": 609,
   "metadata": {},
   "outputs": [],
   "source": [
    "rf = RandomForestClassifier(random_state=1, n_estimators=100)\n",
    "rf = rf.fit(X_train, y_train)"
   ]
  },
  {
   "cell_type": "markdown",
   "metadata": {},
   "source": [
    "Cras ultricies ligula sed magna dictum porta. Curabitur arcu erat, accumsan id imperdiet et, porttitor at sem. Curabitur arcu erat, accumsan id imperdiet et, porttitor at sem. Donec sollicitudin molestie malesuada. Cras ultricies ligula sed magna dictum porta."
   ]
  },
  {
   "cell_type": "code",
   "execution_count": 610,
   "metadata": {},
   "outputs": [
    {
     "data": {
      "text/plain": [
       "array([[ 6,  9],\n",
       "       [ 9, 32]])"
      ]
     },
     "execution_count": 610,
     "metadata": {},
     "output_type": "execute_result"
    }
   ],
   "source": [
    "y_test_pred = rf.predict(X_test) #the predicted values\n",
    "cm = confusion_matrix(y_test, y_test_pred) #creates a \"confusion matrix\"\n",
    "cm"
   ]
  },
  {
   "cell_type": "markdown",
   "metadata": {},
   "source": [
    "Cras ultricies ligula sed magna dictum porta. Curabitur arcu erat, accumsan id imperdiet et, porttitor at sem. Curabitur arcu erat, accumsan id imperdiet et, porttitor at sem. Donec sollicitudin molestie malesuada. Cras ultricies ligula sed magna dictum porta."
   ]
  },
  {
   "cell_type": "code",
   "execution_count": 611,
   "metadata": {},
   "outputs": [
    {
     "data": {
      "text/html": [
       "<div>\n",
       "<style scoped>\n",
       "    .dataframe tbody tr th:only-of-type {\n",
       "        vertical-align: middle;\n",
       "    }\n",
       "\n",
       "    .dataframe tbody tr th {\n",
       "        vertical-align: top;\n",
       "    }\n",
       "\n",
       "    .dataframe thead th {\n",
       "        text-align: right;\n",
       "    }\n",
       "</style>\n",
       "<table border=\"1\" class=\"dataframe\">\n",
       "  <thead>\n",
       "    <tr style=\"text-align: right;\">\n",
       "      <th></th>\n",
       "      <th>casualties (predicted)</th>\n",
       "      <th>non-casualties (predicted)</th>\n",
       "    </tr>\n",
       "  </thead>\n",
       "  <tbody>\n",
       "    <tr>\n",
       "      <th>casualties (actual)</th>\n",
       "      <td>6</td>\n",
       "      <td>9</td>\n",
       "    </tr>\n",
       "    <tr>\n",
       "      <th>non-casualties (actual)</th>\n",
       "      <td>9</td>\n",
       "      <td>32</td>\n",
       "    </tr>\n",
       "  </tbody>\n",
       "</table>\n",
       "</div>"
      ],
      "text/plain": [
       "                         casualties (predicted)  non-casualties (predicted)\n",
       "casualties (actual)                           6                           9\n",
       "non-casualties (actual)                       9                          32"
      ]
     },
     "execution_count": 611,
     "metadata": {},
     "output_type": "execute_result"
    }
   ],
   "source": [
    "y_pred = rf.predict(X_test) #the predicted values\n",
    "conf_matrix = confusion_matrix(y_test, y_pred) #creates a \"confusion matrix\"\n",
    "conf_matrix = pd.DataFrame(cm, index=['casualties (actual)', 'non-casualties (actual)'], columns = ['casualties (predicted)', 'non-casualties (predicted)']) \n",
    "conf_matrix"
   ]
  },
  {
   "cell_type": "markdown",
   "metadata": {},
   "source": [
    "Cras ultricies ligula sed magna dictum porta. Curabitur arcu erat, accumsan id imperdiet et, porttitor at sem. Curabitur arcu erat, accumsan id imperdiet et, porttitor at sem. Donec sollicitudin molestie malesuada. Cras ultricies ligula sed magna dictum porta."
   ]
  },
  {
   "cell_type": "code",
   "execution_count": 612,
   "metadata": {},
   "outputs": [
    {
     "name": "stdout",
     "output_type": "stream",
     "text": [
      "              precision    recall  f1-score   support\n",
      "\n",
      "           0       0.40      0.40      0.40        15\n",
      "           1       0.78      0.78      0.78        41\n",
      "\n",
      "    accuracy                           0.68        56\n",
      "   macro avg       0.59      0.59      0.59        56\n",
      "weighted avg       0.68      0.68      0.68        56\n",
      "\n"
     ]
    }
   ],
   "source": [
    "print(classification_report(y_test, y_pred))"
   ]
  },
  {
   "cell_type": "markdown",
   "metadata": {},
   "source": [
    "Cras ultricies ligula sed magna dictum porta. Curabitur arcu erat, accumsan id imperdiet et, porttitor at sem. Curabitur arcu erat, accumsan id imperdiet et, porttitor at sem. Donec sollicitudin molestie malesuada. Cras ultricies ligula sed magna dictum porta."
   ]
  },
  {
   "cell_type": "markdown",
   "metadata": {},
   "source": [
    "______________________________________________________________________________________________________________________\n",
    "\n",
    "# References\n",
    "\n",
    "Analysis | More than 240,000 students have experienced gun violence at school since Columbine. (2018, April 20). Washington Post. https://www.washingtonpost.com/graphics/2018/local/school-shootings-database/\n",
    "\n",
    "\n",
    "W. Rich, Data-School-Shootings, (2019), GitHub repository, https://github.com/washingtonpost/data-school-shootings"
   ]
  },
  {
   "cell_type": "code",
   "execution_count": null,
   "metadata": {},
   "outputs": [],
   "source": []
  }
 ],
 "metadata": {
  "kernelspec": {
   "display_name": "Python 3",
   "language": "python",
   "name": "python3"
  },
  "language_info": {
   "codemirror_mode": {
    "name": "ipython",
    "version": 3
   },
   "file_extension": ".py",
   "mimetype": "text/x-python",
   "name": "python",
   "nbconvert_exporter": "python",
   "pygments_lexer": "ipython3",
   "version": "3.8.3"
  }
 },
 "nbformat": 4,
 "nbformat_minor": 4
}
